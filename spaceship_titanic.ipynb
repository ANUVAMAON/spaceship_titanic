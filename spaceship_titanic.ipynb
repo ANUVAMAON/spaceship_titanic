{
 "cells": [
  {
   "cell_type": "code",
   "execution_count": 1,
   "id": "19035560",
   "metadata": {
    "_cell_guid": "b1076dfc-b9ad-4769-8c92-a6c4dae69d19",
    "_uuid": "8f2839f25d086af736a60e9eeb907d3b93b6e0e5",
    "execution": {
     "iopub.execute_input": "2023-08-26T16:31:29.774198Z",
     "iopub.status.busy": "2023-08-26T16:31:29.773671Z",
     "iopub.status.idle": "2023-08-26T16:31:29.789767Z",
     "shell.execute_reply": "2023-08-26T16:31:29.788116Z"
    },
    "papermill": {
     "duration": 0.033261,
     "end_time": "2023-08-26T16:31:29.792585",
     "exception": false,
     "start_time": "2023-08-26T16:31:29.759324",
     "status": "completed"
    },
    "tags": []
   },
   "outputs": [
    {
     "name": "stdout",
     "output_type": "stream",
     "text": [
      "/kaggle/input/spaceship-titanic/sample_submission.csv\n",
      "/kaggle/input/spaceship-titanic/train.csv\n",
      "/kaggle/input/spaceship-titanic/test.csv\n"
     ]
    }
   ],
   "source": [
    "# This Python 3 environment comes with many helpful analytics libraries installed\n",
    "# It is defined by the kaggle/python Docker image: https://github.com/kaggle/docker-python\n",
    "# For example, here's several helpful packages to load\n",
    "\n",
    "import numpy as np # linear algebra\n",
    "import pandas as pd # data processing, CSV file I/O (e.g. pd.read_csv)\n",
    "\n",
    "# Input data files are available in the read-only \"../input/\" directory\n",
    "# For example, running this (by clicking run or pressing Shift+Enter) will list all files under the input directory\n",
    "\n",
    "import os\n",
    "for dirname, _, filenames in os.walk('/kaggle/input'):\n",
    "    for filename in filenames:\n",
    "        print(os.path.join(dirname, filename))\n",
    "\n",
    "# You can write up to 20GB to the current directory (/kaggle/working/) that gets preserved as output when you create a version using \"Save & Run All\" \n",
    "# You can also write temporary files to /kaggle/temp/, but they won't be saved outside of the current session"
   ]
  },
  {
   "cell_type": "markdown",
   "id": "e1b12276",
   "metadata": {
    "papermill": {
     "duration": 0.009466,
     "end_time": "2023-08-26T16:31:29.812163",
     "exception": false,
     "start_time": "2023-08-26T16:31:29.802697",
     "status": "completed"
    },
    "tags": []
   },
   "source": [
    "### Import libraries"
   ]
  },
  {
   "cell_type": "code",
   "execution_count": 2,
   "id": "7a8736e7",
   "metadata": {
    "execution": {
     "iopub.execute_input": "2023-08-26T16:31:29.834203Z",
     "iopub.status.busy": "2023-08-26T16:31:29.833387Z",
     "iopub.status.idle": "2023-08-26T16:31:45.238793Z",
     "shell.execute_reply": "2023-08-26T16:31:45.237088Z"
    },
    "papermill": {
     "duration": 15.420109,
     "end_time": "2023-08-26T16:31:45.242102",
     "exception": false,
     "start_time": "2023-08-26T16:31:29.821993",
     "status": "completed"
    },
    "tags": []
   },
   "outputs": [
    {
     "name": "stdout",
     "output_type": "stream",
     "text": [
      "Collecting lazypredict\r\n",
      "  Downloading lazypredict-0.2.12-py2.py3-none-any.whl (12 kB)\r\n",
      "Requirement already satisfied: click in /opt/conda/lib/python3.10/site-packages (from lazypredict) (8.1.3)\r\n",
      "Requirement already satisfied: scikit-learn in /opt/conda/lib/python3.10/site-packages (from lazypredict) (1.2.2)\r\n",
      "Requirement already satisfied: pandas in /opt/conda/lib/python3.10/site-packages (from lazypredict) (1.5.3)\r\n",
      "Requirement already satisfied: tqdm in /opt/conda/lib/python3.10/site-packages (from lazypredict) (4.65.0)\r\n",
      "Requirement already satisfied: joblib in /opt/conda/lib/python3.10/site-packages (from lazypredict) (1.2.0)\r\n",
      "Requirement already satisfied: lightgbm in /opt/conda/lib/python3.10/site-packages (from lazypredict) (3.3.2)\r\n",
      "Requirement already satisfied: xgboost in /opt/conda/lib/python3.10/site-packages (from lazypredict) (1.7.6)\r\n",
      "Requirement already satisfied: wheel in /opt/conda/lib/python3.10/site-packages (from lightgbm->lazypredict) (0.40.0)\r\n",
      "Requirement already satisfied: numpy in /opt/conda/lib/python3.10/site-packages (from lightgbm->lazypredict) (1.23.5)\r\n",
      "Requirement already satisfied: scipy in /opt/conda/lib/python3.10/site-packages (from lightgbm->lazypredict) (1.11.1)\r\n",
      "Requirement already satisfied: threadpoolctl>=2.0.0 in /opt/conda/lib/python3.10/site-packages (from scikit-learn->lazypredict) (3.1.0)\r\n",
      "Requirement already satisfied: python-dateutil>=2.8.1 in /opt/conda/lib/python3.10/site-packages (from pandas->lazypredict) (2.8.2)\r\n",
      "Requirement already satisfied: pytz>=2020.1 in /opt/conda/lib/python3.10/site-packages (from pandas->lazypredict) (2023.3)\r\n",
      "Requirement already satisfied: six>=1.5 in /opt/conda/lib/python3.10/site-packages (from python-dateutil>=2.8.1->pandas->lazypredict) (1.16.0)\r\n",
      "Installing collected packages: lazypredict\r\n",
      "Successfully installed lazypredict-0.2.12\r\n"
     ]
    }
   ],
   "source": [
    "!pip install lazypredict"
   ]
  },
  {
   "cell_type": "code",
   "execution_count": 3,
   "id": "f639dc0b",
   "metadata": {
    "execution": {
     "iopub.execute_input": "2023-08-26T16:31:45.266726Z",
     "iopub.status.busy": "2023-08-26T16:31:45.266315Z",
     "iopub.status.idle": "2023-08-26T16:31:51.101578Z",
     "shell.execute_reply": "2023-08-26T16:31:51.100289Z"
    },
    "papermill": {
     "duration": 5.8512,
     "end_time": "2023-08-26T16:31:51.104698",
     "exception": false,
     "start_time": "2023-08-26T16:31:45.253498",
     "status": "completed"
    },
    "tags": []
   },
   "outputs": [
    {
     "name": "stderr",
     "output_type": "stream",
     "text": [
      "/opt/conda/lib/python3.10/site-packages/scipy/__init__.py:146: UserWarning: A NumPy version >=1.16.5 and <1.23.0 is required for this version of SciPy (detected version 1.23.5\n",
      "  warnings.warn(f\"A NumPy version >={np_minversion} and <{np_maxversion}\"\n"
     ]
    }
   ],
   "source": [
    "import pandas as pd\n",
    "import seaborn as sns\n",
    "import matplotlib.pyplot as plt\n",
    "import numpy as np\n",
    "from sklearn.model_selection import train_test_split, GridSearchCV\n",
    "from sklearn.tree import DecisionTreeClassifier\n",
    "from sklearn.metrics import mean_squared_error, roc_auc_score, accuracy_score, f1_score, precision_score, r2_score\n",
    "from sklearn.preprocessing import LabelEncoder, OneHotEncoder\n",
    "from sklearn.preprocessing import StandardScaler, MinMaxScaler, RobustScaler\n",
    "from lazypredict.Supervised import LazyRegressor, LazyClassifier"
   ]
  },
  {
   "cell_type": "markdown",
   "id": "9085e977",
   "metadata": {
    "papermill": {
     "duration": 0.01098,
     "end_time": "2023-08-26T16:31:51.127241",
     "exception": false,
     "start_time": "2023-08-26T16:31:51.116261",
     "status": "completed"
    },
    "tags": []
   },
   "source": [
    "## Data"
   ]
  },
  {
   "cell_type": "code",
   "execution_count": 4,
   "id": "2e10c0c1",
   "metadata": {
    "execution": {
     "iopub.execute_input": "2023-08-26T16:31:51.151196Z",
     "iopub.status.busy": "2023-08-26T16:31:51.150803Z",
     "iopub.status.idle": "2023-08-26T16:31:51.272553Z",
     "shell.execute_reply": "2023-08-26T16:31:51.271145Z"
    },
    "papermill": {
     "duration": 0.137527,
     "end_time": "2023-08-26T16:31:51.275718",
     "exception": false,
     "start_time": "2023-08-26T16:31:51.138191",
     "status": "completed"
    },
    "tags": []
   },
   "outputs": [],
   "source": [
    "train = pd.read_csv('/kaggle/input/spaceship-titanic/train.csv')\n",
    "test = pd.read_csv('/kaggle/input/spaceship-titanic/test.csv')\n",
    "\n",
    "split = len(train)\n",
    "\n",
    "data = pd.concat([train, test], axis=0).reset_index(drop=True)\n",
    "Id = data['PassengerId']"
   ]
  },
  {
   "cell_type": "code",
   "execution_count": 5,
   "id": "3e9c3d7c",
   "metadata": {
    "execution": {
     "iopub.execute_input": "2023-08-26T16:31:51.300235Z",
     "iopub.status.busy": "2023-08-26T16:31:51.299815Z",
     "iopub.status.idle": "2023-08-26T16:31:51.323327Z",
     "shell.execute_reply": "2023-08-26T16:31:51.321915Z"
    },
    "papermill": {
     "duration": 0.038995,
     "end_time": "2023-08-26T16:31:51.326188",
     "exception": false,
     "start_time": "2023-08-26T16:31:51.287193",
     "status": "completed"
    },
    "tags": []
   },
   "outputs": [
    {
     "data": {
      "text/html": [
       "<div>\n",
       "<style scoped>\n",
       "    .dataframe tbody tr th:only-of-type {\n",
       "        vertical-align: middle;\n",
       "    }\n",
       "\n",
       "    .dataframe tbody tr th {\n",
       "        vertical-align: top;\n",
       "    }\n",
       "\n",
       "    .dataframe thead th {\n",
       "        text-align: right;\n",
       "    }\n",
       "</style>\n",
       "<table border=\"1\" class=\"dataframe\">\n",
       "  <thead>\n",
       "    <tr style=\"text-align: right;\">\n",
       "      <th></th>\n",
       "      <th>PassengerId</th>\n",
       "      <th>HomePlanet</th>\n",
       "      <th>CryoSleep</th>\n",
       "      <th>Cabin</th>\n",
       "      <th>Destination</th>\n",
       "      <th>Age</th>\n",
       "      <th>VIP</th>\n",
       "      <th>RoomService</th>\n",
       "      <th>FoodCourt</th>\n",
       "      <th>ShoppingMall</th>\n",
       "      <th>Spa</th>\n",
       "      <th>VRDeck</th>\n",
       "      <th>Name</th>\n",
       "      <th>Transported</th>\n",
       "    </tr>\n",
       "  </thead>\n",
       "  <tbody>\n",
       "    <tr>\n",
       "      <th>0</th>\n",
       "      <td>0001_01</td>\n",
       "      <td>Europa</td>\n",
       "      <td>False</td>\n",
       "      <td>B/0/P</td>\n",
       "      <td>TRAPPIST-1e</td>\n",
       "      <td>39.00</td>\n",
       "      <td>False</td>\n",
       "      <td>0.00</td>\n",
       "      <td>0.00</td>\n",
       "      <td>0.00</td>\n",
       "      <td>0.00</td>\n",
       "      <td>0.00</td>\n",
       "      <td>Maham Ofracculy</td>\n",
       "      <td>False</td>\n",
       "    </tr>\n",
       "    <tr>\n",
       "      <th>1</th>\n",
       "      <td>0002_01</td>\n",
       "      <td>Earth</td>\n",
       "      <td>False</td>\n",
       "      <td>F/0/S</td>\n",
       "      <td>TRAPPIST-1e</td>\n",
       "      <td>24.00</td>\n",
       "      <td>False</td>\n",
       "      <td>109.00</td>\n",
       "      <td>9.00</td>\n",
       "      <td>25.00</td>\n",
       "      <td>549.00</td>\n",
       "      <td>44.00</td>\n",
       "      <td>Juanna Vines</td>\n",
       "      <td>True</td>\n",
       "    </tr>\n",
       "    <tr>\n",
       "      <th>2</th>\n",
       "      <td>0003_01</td>\n",
       "      <td>Europa</td>\n",
       "      <td>False</td>\n",
       "      <td>A/0/S</td>\n",
       "      <td>TRAPPIST-1e</td>\n",
       "      <td>58.00</td>\n",
       "      <td>True</td>\n",
       "      <td>43.00</td>\n",
       "      <td>3576.00</td>\n",
       "      <td>0.00</td>\n",
       "      <td>6715.00</td>\n",
       "      <td>49.00</td>\n",
       "      <td>Altark Susent</td>\n",
       "      <td>False</td>\n",
       "    </tr>\n",
       "    <tr>\n",
       "      <th>3</th>\n",
       "      <td>0003_02</td>\n",
       "      <td>Europa</td>\n",
       "      <td>False</td>\n",
       "      <td>A/0/S</td>\n",
       "      <td>TRAPPIST-1e</td>\n",
       "      <td>33.00</td>\n",
       "      <td>False</td>\n",
       "      <td>0.00</td>\n",
       "      <td>1283.00</td>\n",
       "      <td>371.00</td>\n",
       "      <td>3329.00</td>\n",
       "      <td>193.00</td>\n",
       "      <td>Solam Susent</td>\n",
       "      <td>False</td>\n",
       "    </tr>\n",
       "    <tr>\n",
       "      <th>4</th>\n",
       "      <td>0004_01</td>\n",
       "      <td>Earth</td>\n",
       "      <td>False</td>\n",
       "      <td>F/1/S</td>\n",
       "      <td>TRAPPIST-1e</td>\n",
       "      <td>16.00</td>\n",
       "      <td>False</td>\n",
       "      <td>303.00</td>\n",
       "      <td>70.00</td>\n",
       "      <td>151.00</td>\n",
       "      <td>565.00</td>\n",
       "      <td>2.00</td>\n",
       "      <td>Willy Santantines</td>\n",
       "      <td>True</td>\n",
       "    </tr>\n",
       "  </tbody>\n",
       "</table>\n",
       "</div>"
      ],
      "text/plain": [
       "  PassengerId HomePlanet CryoSleep  Cabin  Destination   Age    VIP  \\\n",
       "0     0001_01     Europa     False  B/0/P  TRAPPIST-1e 39.00  False   \n",
       "1     0002_01      Earth     False  F/0/S  TRAPPIST-1e 24.00  False   \n",
       "2     0003_01     Europa     False  A/0/S  TRAPPIST-1e 58.00   True   \n",
       "3     0003_02     Europa     False  A/0/S  TRAPPIST-1e 33.00  False   \n",
       "4     0004_01      Earth     False  F/1/S  TRAPPIST-1e 16.00  False   \n",
       "\n",
       "   RoomService  FoodCourt  ShoppingMall     Spa  VRDeck               Name  \\\n",
       "0         0.00       0.00          0.00    0.00    0.00    Maham Ofracculy   \n",
       "1       109.00       9.00         25.00  549.00   44.00       Juanna Vines   \n",
       "2        43.00    3576.00          0.00 6715.00   49.00      Altark Susent   \n",
       "3         0.00    1283.00        371.00 3329.00  193.00       Solam Susent   \n",
       "4       303.00      70.00        151.00  565.00    2.00  Willy Santantines   \n",
       "\n",
       "  Transported  \n",
       "0       False  \n",
       "1        True  \n",
       "2       False  \n",
       "3       False  \n",
       "4        True  "
      ]
     },
     "execution_count": 5,
     "metadata": {},
     "output_type": "execute_result"
    }
   ],
   "source": [
    "data.head()"
   ]
  },
  {
   "cell_type": "code",
   "execution_count": 6,
   "id": "472161dc",
   "metadata": {
    "execution": {
     "iopub.execute_input": "2023-08-26T16:31:51.350758Z",
     "iopub.status.busy": "2023-08-26T16:31:51.350384Z",
     "iopub.status.idle": "2023-08-26T16:31:51.392845Z",
     "shell.execute_reply": "2023-08-26T16:31:51.391730Z"
    },
    "papermill": {
     "duration": 0.057945,
     "end_time": "2023-08-26T16:31:51.395463",
     "exception": false,
     "start_time": "2023-08-26T16:31:51.337518",
     "status": "completed"
    },
    "tags": []
   },
   "outputs": [
    {
     "data": {
      "text/plain": [
       "PassengerId        0\n",
       "HomePlanet       288\n",
       "CryoSleep        310\n",
       "Cabin            299\n",
       "Destination      274\n",
       "Age              270\n",
       "VIP              296\n",
       "RoomService      263\n",
       "FoodCourt        289\n",
       "ShoppingMall     306\n",
       "Spa              284\n",
       "VRDeck           268\n",
       "Name             294\n",
       "Transported     4277\n",
       "dtype: int64"
      ]
     },
     "execution_count": 6,
     "metadata": {},
     "output_type": "execute_result"
    }
   ],
   "source": [
    "data.isna().sum()"
   ]
  },
  {
   "cell_type": "code",
   "execution_count": 7,
   "id": "00337a0f",
   "metadata": {
    "execution": {
     "iopub.execute_input": "2023-08-26T16:31:51.420716Z",
     "iopub.status.busy": "2023-08-26T16:31:51.420342Z",
     "iopub.status.idle": "2023-08-26T16:31:51.954293Z",
     "shell.execute_reply": "2023-08-26T16:31:51.953023Z"
    },
    "papermill": {
     "duration": 0.549533,
     "end_time": "2023-08-26T16:31:51.956918",
     "exception": false,
     "start_time": "2023-08-26T16:31:51.407385",
     "status": "completed"
    },
    "tags": []
   },
   "outputs": [
    {
     "data": {
      "text/plain": [
       "<Axes: xlabel='HomePlanet', ylabel='Count'>"
      ]
     },
     "execution_count": 7,
     "metadata": {},
     "output_type": "execute_result"
    },
    {
     "data": {
      "image/png": "[encoded data removed]",
      "text/plain": [
       "<Figure size 640x480 with 1 Axes>"
      ]
     },
     "metadata": {},
     "output_type": "display_data"
    }
   ],
   "source": [
    "sns.histplot(data['HomePlanet'].dropna(), kde=True)"
   ]
  },
  {
   "cell_type": "code",
   "execution_count": 8,
   "id": "ea0645a0",
   "metadata": {
    "execution": {
     "iopub.execute_input": "2023-08-26T16:31:51.983583Z",
     "iopub.status.busy": "2023-08-26T16:31:51.983203Z",
     "iopub.status.idle": "2023-08-26T16:31:52.689782Z",
     "shell.execute_reply": "2023-08-26T16:31:52.688658Z"
    },
    "papermill": {
     "duration": 0.723393,
     "end_time": "2023-08-26T16:31:52.692531",
     "exception": false,
     "start_time": "2023-08-26T16:31:51.969138",
     "status": "completed"
    },
    "tags": []
   },
   "outputs": [
    {
     "data": {
      "text/plain": [
       "<seaborn.axisgrid.FacetGrid at 0x7e6940cfca90>"
      ]
     },
     "execution_count": 8,
     "metadata": {},
     "output_type": "execute_result"
    },
    {
     "data": {
      "image/png": "[encoded data removed]",
      "text/plain": [
       "<Figure size 1293.99x300 with 1 Axes>"
      ]
     },
     "metadata": {},
     "output_type": "display_data"
    }
   ],
   "source": [
    "a = sns.FacetGrid(train, hue = 'Transported', aspect=4 )\n",
    "a.map(sns.kdeplot, 'Age', fill = True )\n",
    "a.add_legend()"
   ]
  },
  {
   "cell_type": "code",
   "execution_count": 9,
   "id": "16828e09",
   "metadata": {
    "execution": {
     "iopub.execute_input": "2023-08-26T16:31:52.721399Z",
     "iopub.status.busy": "2023-08-26T16:31:52.720213Z",
     "iopub.status.idle": "2023-08-26T16:31:53.333767Z",
     "shell.execute_reply": "2023-08-26T16:31:53.332633Z"
    },
    "papermill": {
     "duration": 0.630648,
     "end_time": "2023-08-26T16:31:53.336346",
     "exception": false,
     "start_time": "2023-08-26T16:31:52.705698",
     "status": "completed"
    },
    "tags": []
   },
   "outputs": [
    {
     "data": {
      "text/plain": [
       "<Axes: xlabel='Age', ylabel='Count'>"
      ]
     },
     "execution_count": 9,
     "metadata": {},
     "output_type": "execute_result"
    },
    {
     "data": {
      "image/png": "[encoded data removed]",
      "text/plain": [
       "<Figure size 640x480 with 1 Axes>"
      ]
     },
     "metadata": {},
     "output_type": "display_data"
    }
   ],
   "source": [
    "sns.histplot(data['Age'].dropna(), kde=True)"
   ]
  },
  {
   "cell_type": "markdown",
   "id": "d2eb0281",
   "metadata": {
    "papermill": {
     "duration": 0.01331,
     "end_time": "2023-08-26T16:31:53.363791",
     "exception": false,
     "start_time": "2023-08-26T16:31:53.350481",
     "status": "completed"
    },
    "tags": []
   },
   "source": [
    "## Data cleaning"
   ]
  },
  {
   "cell_type": "code",
   "execution_count": 10,
   "id": "cd13d7b5",
   "metadata": {
    "execution": {
     "iopub.execute_input": "2023-08-26T16:31:53.394442Z",
     "iopub.status.busy": "2023-08-26T16:31:53.394012Z",
     "iopub.status.idle": "2023-08-26T16:31:53.435694Z",
     "shell.execute_reply": "2023-08-26T16:31:53.434553Z"
    },
    "papermill": {
     "duration": 0.060947,
     "end_time": "2023-08-26T16:31:53.438597",
     "exception": false,
     "start_time": "2023-08-26T16:31:53.377650",
     "status": "completed"
    },
    "tags": []
   },
   "outputs": [
    {
     "data": {
      "text/html": [
       "<div>\n",
       "<style scoped>\n",
       "    .dataframe tbody tr th:only-of-type {\n",
       "        vertical-align: middle;\n",
       "    }\n",
       "\n",
       "    .dataframe tbody tr th {\n",
       "        vertical-align: top;\n",
       "    }\n",
       "\n",
       "    .dataframe thead th {\n",
       "        text-align: right;\n",
       "    }\n",
       "</style>\n",
       "<table border=\"1\" class=\"dataframe\">\n",
       "  <thead>\n",
       "    <tr style=\"text-align: right;\">\n",
       "      <th></th>\n",
       "      <th>PassengerId</th>\n",
       "      <th>HomePlanet</th>\n",
       "      <th>CryoSleep</th>\n",
       "      <th>Cabin</th>\n",
       "      <th>Destination</th>\n",
       "      <th>Age</th>\n",
       "      <th>VIP</th>\n",
       "      <th>RoomService</th>\n",
       "      <th>FoodCourt</th>\n",
       "      <th>ShoppingMall</th>\n",
       "      <th>Spa</th>\n",
       "      <th>VRDeck</th>\n",
       "      <th>Name</th>\n",
       "      <th>Transported</th>\n",
       "    </tr>\n",
       "  </thead>\n",
       "  <tbody>\n",
       "    <tr>\n",
       "      <th>0</th>\n",
       "      <td>0001_01</td>\n",
       "      <td>Europa</td>\n",
       "      <td>False</td>\n",
       "      <td>B/0/P</td>\n",
       "      <td>TRAPPIST-1e</td>\n",
       "      <td>39.00</td>\n",
       "      <td>False</td>\n",
       "      <td>0.00</td>\n",
       "      <td>0.00</td>\n",
       "      <td>0.00</td>\n",
       "      <td>0.00</td>\n",
       "      <td>0.00</td>\n",
       "      <td>Maham Ofracculy</td>\n",
       "      <td>False</td>\n",
       "    </tr>\n",
       "    <tr>\n",
       "      <th>1</th>\n",
       "      <td>0002_01</td>\n",
       "      <td>Earth</td>\n",
       "      <td>False</td>\n",
       "      <td>F/0/S</td>\n",
       "      <td>TRAPPIST-1e</td>\n",
       "      <td>24.00</td>\n",
       "      <td>False</td>\n",
       "      <td>109.00</td>\n",
       "      <td>9.00</td>\n",
       "      <td>25.00</td>\n",
       "      <td>549.00</td>\n",
       "      <td>44.00</td>\n",
       "      <td>Juanna Vines</td>\n",
       "      <td>True</td>\n",
       "    </tr>\n",
       "    <tr>\n",
       "      <th>2</th>\n",
       "      <td>0003_01</td>\n",
       "      <td>Europa</td>\n",
       "      <td>False</td>\n",
       "      <td>A/0/S</td>\n",
       "      <td>TRAPPIST-1e</td>\n",
       "      <td>58.00</td>\n",
       "      <td>True</td>\n",
       "      <td>43.00</td>\n",
       "      <td>3576.00</td>\n",
       "      <td>0.00</td>\n",
       "      <td>6715.00</td>\n",
       "      <td>49.00</td>\n",
       "      <td>Altark Susent</td>\n",
       "      <td>False</td>\n",
       "    </tr>\n",
       "    <tr>\n",
       "      <th>3</th>\n",
       "      <td>0003_02</td>\n",
       "      <td>Europa</td>\n",
       "      <td>False</td>\n",
       "      <td>A/0/S</td>\n",
       "      <td>TRAPPIST-1e</td>\n",
       "      <td>33.00</td>\n",
       "      <td>False</td>\n",
       "      <td>0.00</td>\n",
       "      <td>1283.00</td>\n",
       "      <td>371.00</td>\n",
       "      <td>3329.00</td>\n",
       "      <td>193.00</td>\n",
       "      <td>Solam Susent</td>\n",
       "      <td>False</td>\n",
       "    </tr>\n",
       "    <tr>\n",
       "      <th>4</th>\n",
       "      <td>0004_01</td>\n",
       "      <td>Earth</td>\n",
       "      <td>False</td>\n",
       "      <td>F/1/S</td>\n",
       "      <td>TRAPPIST-1e</td>\n",
       "      <td>16.00</td>\n",
       "      <td>False</td>\n",
       "      <td>303.00</td>\n",
       "      <td>70.00</td>\n",
       "      <td>151.00</td>\n",
       "      <td>565.00</td>\n",
       "      <td>2.00</td>\n",
       "      <td>Willy Santantines</td>\n",
       "      <td>True</td>\n",
       "    </tr>\n",
       "    <tr>\n",
       "      <th>5</th>\n",
       "      <td>0005_01</td>\n",
       "      <td>Earth</td>\n",
       "      <td>False</td>\n",
       "      <td>F/0/P</td>\n",
       "      <td>PSO J318.5-22</td>\n",
       "      <td>44.00</td>\n",
       "      <td>False</td>\n",
       "      <td>0.00</td>\n",
       "      <td>483.00</td>\n",
       "      <td>0.00</td>\n",
       "      <td>291.00</td>\n",
       "      <td>0.00</td>\n",
       "      <td>Sandie Hinetthews</td>\n",
       "      <td>True</td>\n",
       "    </tr>\n",
       "    <tr>\n",
       "      <th>6</th>\n",
       "      <td>0006_01</td>\n",
       "      <td>Earth</td>\n",
       "      <td>False</td>\n",
       "      <td>F/2/S</td>\n",
       "      <td>TRAPPIST-1e</td>\n",
       "      <td>26.00</td>\n",
       "      <td>False</td>\n",
       "      <td>42.00</td>\n",
       "      <td>1539.00</td>\n",
       "      <td>3.00</td>\n",
       "      <td>0.00</td>\n",
       "      <td>0.00</td>\n",
       "      <td>Billex Jacostaffey</td>\n",
       "      <td>True</td>\n",
       "    </tr>\n",
       "    <tr>\n",
       "      <th>7</th>\n",
       "      <td>0006_02</td>\n",
       "      <td>Earth</td>\n",
       "      <td>True</td>\n",
       "      <td>G/0/S</td>\n",
       "      <td>TRAPPIST-1e</td>\n",
       "      <td>28.00</td>\n",
       "      <td>False</td>\n",
       "      <td>0.00</td>\n",
       "      <td>0.00</td>\n",
       "      <td>0.00</td>\n",
       "      <td>0.00</td>\n",
       "      <td>NaN</td>\n",
       "      <td>Candra Jacostaffey</td>\n",
       "      <td>True</td>\n",
       "    </tr>\n",
       "    <tr>\n",
       "      <th>8</th>\n",
       "      <td>0007_01</td>\n",
       "      <td>Earth</td>\n",
       "      <td>False</td>\n",
       "      <td>F/3/S</td>\n",
       "      <td>TRAPPIST-1e</td>\n",
       "      <td>35.00</td>\n",
       "      <td>False</td>\n",
       "      <td>0.00</td>\n",
       "      <td>785.00</td>\n",
       "      <td>17.00</td>\n",
       "      <td>216.00</td>\n",
       "      <td>0.00</td>\n",
       "      <td>Andona Beston</td>\n",
       "      <td>True</td>\n",
       "    </tr>\n",
       "    <tr>\n",
       "      <th>9</th>\n",
       "      <td>0008_01</td>\n",
       "      <td>Europa</td>\n",
       "      <td>True</td>\n",
       "      <td>B/1/P</td>\n",
       "      <td>55 Cancri e</td>\n",
       "      <td>14.00</td>\n",
       "      <td>False</td>\n",
       "      <td>0.00</td>\n",
       "      <td>0.00</td>\n",
       "      <td>0.00</td>\n",
       "      <td>0.00</td>\n",
       "      <td>0.00</td>\n",
       "      <td>Erraiam Flatic</td>\n",
       "      <td>True</td>\n",
       "    </tr>\n",
       "    <tr>\n",
       "      <th>10</th>\n",
       "      <td>0008_02</td>\n",
       "      <td>Europa</td>\n",
       "      <td>True</td>\n",
       "      <td>B/1/P</td>\n",
       "      <td>TRAPPIST-1e</td>\n",
       "      <td>34.00</td>\n",
       "      <td>False</td>\n",
       "      <td>0.00</td>\n",
       "      <td>0.00</td>\n",
       "      <td>NaN</td>\n",
       "      <td>0.00</td>\n",
       "      <td>0.00</td>\n",
       "      <td>Altardr Flatic</td>\n",
       "      <td>True</td>\n",
       "    </tr>\n",
       "    <tr>\n",
       "      <th>11</th>\n",
       "      <td>0008_03</td>\n",
       "      <td>Europa</td>\n",
       "      <td>False</td>\n",
       "      <td>B/1/P</td>\n",
       "      <td>55 Cancri e</td>\n",
       "      <td>45.00</td>\n",
       "      <td>False</td>\n",
       "      <td>39.00</td>\n",
       "      <td>7295.00</td>\n",
       "      <td>589.00</td>\n",
       "      <td>110.00</td>\n",
       "      <td>124.00</td>\n",
       "      <td>Wezena Flatic</td>\n",
       "      <td>True</td>\n",
       "    </tr>\n",
       "    <tr>\n",
       "      <th>12</th>\n",
       "      <td>0009_01</td>\n",
       "      <td>Mars</td>\n",
       "      <td>False</td>\n",
       "      <td>F/1/P</td>\n",
       "      <td>TRAPPIST-1e</td>\n",
       "      <td>32.00</td>\n",
       "      <td>False</td>\n",
       "      <td>73.00</td>\n",
       "      <td>0.00</td>\n",
       "      <td>1123.00</td>\n",
       "      <td>0.00</td>\n",
       "      <td>113.00</td>\n",
       "      <td>Berers Barne</td>\n",
       "      <td>True</td>\n",
       "    </tr>\n",
       "    <tr>\n",
       "      <th>13</th>\n",
       "      <td>0010_01</td>\n",
       "      <td>Earth</td>\n",
       "      <td>False</td>\n",
       "      <td>G/1/S</td>\n",
       "      <td>TRAPPIST-1e</td>\n",
       "      <td>48.00</td>\n",
       "      <td>False</td>\n",
       "      <td>719.00</td>\n",
       "      <td>1.00</td>\n",
       "      <td>65.00</td>\n",
       "      <td>0.00</td>\n",
       "      <td>24.00</td>\n",
       "      <td>Reney Baketton</td>\n",
       "      <td>False</td>\n",
       "    </tr>\n",
       "    <tr>\n",
       "      <th>14</th>\n",
       "      <td>0011_01</td>\n",
       "      <td>Earth</td>\n",
       "      <td>False</td>\n",
       "      <td>F/2/P</td>\n",
       "      <td>TRAPPIST-1e</td>\n",
       "      <td>28.00</td>\n",
       "      <td>False</td>\n",
       "      <td>8.00</td>\n",
       "      <td>974.00</td>\n",
       "      <td>12.00</td>\n",
       "      <td>2.00</td>\n",
       "      <td>7.00</td>\n",
       "      <td>Elle Bertsontry</td>\n",
       "      <td>True</td>\n",
       "    </tr>\n",
       "    <tr>\n",
       "      <th>15</th>\n",
       "      <td>0012_01</td>\n",
       "      <td>Earth</td>\n",
       "      <td>False</td>\n",
       "      <td>NaN</td>\n",
       "      <td>TRAPPIST-1e</td>\n",
       "      <td>31.00</td>\n",
       "      <td>False</td>\n",
       "      <td>32.00</td>\n",
       "      <td>0.00</td>\n",
       "      <td>876.00</td>\n",
       "      <td>0.00</td>\n",
       "      <td>0.00</td>\n",
       "      <td>Justie Pooles</td>\n",
       "      <td>False</td>\n",
       "    </tr>\n",
       "    <tr>\n",
       "      <th>16</th>\n",
       "      <td>0014_01</td>\n",
       "      <td>Mars</td>\n",
       "      <td>False</td>\n",
       "      <td>F/3/P</td>\n",
       "      <td>55 Cancri e</td>\n",
       "      <td>27.00</td>\n",
       "      <td>False</td>\n",
       "      <td>1286.00</td>\n",
       "      <td>122.00</td>\n",
       "      <td>NaN</td>\n",
       "      <td>0.00</td>\n",
       "      <td>0.00</td>\n",
       "      <td>Flats Eccle</td>\n",
       "      <td>False</td>\n",
       "    </tr>\n",
       "    <tr>\n",
       "      <th>17</th>\n",
       "      <td>0015_01</td>\n",
       "      <td>Earth</td>\n",
       "      <td>False</td>\n",
       "      <td>F/4/P</td>\n",
       "      <td>55 Cancri e</td>\n",
       "      <td>24.00</td>\n",
       "      <td>False</td>\n",
       "      <td>0.00</td>\n",
       "      <td>1.00</td>\n",
       "      <td>0.00</td>\n",
       "      <td>0.00</td>\n",
       "      <td>637.00</td>\n",
       "      <td>Carry Hughriend</td>\n",
       "      <td>False</td>\n",
       "    </tr>\n",
       "    <tr>\n",
       "      <th>18</th>\n",
       "      <td>0016_01</td>\n",
       "      <td>Mars</td>\n",
       "      <td>True</td>\n",
       "      <td>F/5/P</td>\n",
       "      <td>TRAPPIST-1e</td>\n",
       "      <td>45.00</td>\n",
       "      <td>False</td>\n",
       "      <td>0.00</td>\n",
       "      <td>0.00</td>\n",
       "      <td>0.00</td>\n",
       "      <td>0.00</td>\n",
       "      <td>0.00</td>\n",
       "      <td>Alus Upead</td>\n",
       "      <td>True</td>\n",
       "    </tr>\n",
       "    <tr>\n",
       "      <th>19</th>\n",
       "      <td>0017_01</td>\n",
       "      <td>Earth</td>\n",
       "      <td>False</td>\n",
       "      <td>G/0/P</td>\n",
       "      <td>TRAPPIST-1e</td>\n",
       "      <td>0.00</td>\n",
       "      <td>False</td>\n",
       "      <td>0.00</td>\n",
       "      <td>0.00</td>\n",
       "      <td>0.00</td>\n",
       "      <td>0.00</td>\n",
       "      <td>0.00</td>\n",
       "      <td>Lyde Brighttt</td>\n",
       "      <td>True</td>\n",
       "    </tr>\n",
       "    <tr>\n",
       "      <th>20</th>\n",
       "      <td>0017_02</td>\n",
       "      <td>Earth</td>\n",
       "      <td>False</td>\n",
       "      <td>F/6/P</td>\n",
       "      <td>55 Cancri e</td>\n",
       "      <td>14.00</td>\n",
       "      <td>False</td>\n",
       "      <td>412.00</td>\n",
       "      <td>0.00</td>\n",
       "      <td>1.00</td>\n",
       "      <td>0.00</td>\n",
       "      <td>679.00</td>\n",
       "      <td>Philda Brighttt</td>\n",
       "      <td>False</td>\n",
       "    </tr>\n",
       "    <tr>\n",
       "      <th>21</th>\n",
       "      <td>0020_01</td>\n",
       "      <td>Earth</td>\n",
       "      <td>True</td>\n",
       "      <td>E/0/S</td>\n",
       "      <td>TRAPPIST-1e</td>\n",
       "      <td>1.00</td>\n",
       "      <td>False</td>\n",
       "      <td>0.00</td>\n",
       "      <td>0.00</td>\n",
       "      <td>0.00</td>\n",
       "      <td>0.00</td>\n",
       "      <td>0.00</td>\n",
       "      <td>Almary Brantuarez</td>\n",
       "      <td>False</td>\n",
       "    </tr>\n",
       "    <tr>\n",
       "      <th>22</th>\n",
       "      <td>0020_02</td>\n",
       "      <td>Earth</td>\n",
       "      <td>True</td>\n",
       "      <td>E/0/S</td>\n",
       "      <td>55 Cancri e</td>\n",
       "      <td>49.00</td>\n",
       "      <td>False</td>\n",
       "      <td>0.00</td>\n",
       "      <td>0.00</td>\n",
       "      <td>0.00</td>\n",
       "      <td>0.00</td>\n",
       "      <td>0.00</td>\n",
       "      <td>Glendy Brantuarez</td>\n",
       "      <td>False</td>\n",
       "    </tr>\n",
       "    <tr>\n",
       "      <th>23</th>\n",
       "      <td>0020_03</td>\n",
       "      <td>Earth</td>\n",
       "      <td>True</td>\n",
       "      <td>E/0/S</td>\n",
       "      <td>55 Cancri e</td>\n",
       "      <td>29.00</td>\n",
       "      <td>False</td>\n",
       "      <td>0.00</td>\n",
       "      <td>0.00</td>\n",
       "      <td>NaN</td>\n",
       "      <td>0.00</td>\n",
       "      <td>0.00</td>\n",
       "      <td>Mollen Mcfaddennon</td>\n",
       "      <td>False</td>\n",
       "    </tr>\n",
       "    <tr>\n",
       "      <th>24</th>\n",
       "      <td>0020_04</td>\n",
       "      <td>Earth</td>\n",
       "      <td>False</td>\n",
       "      <td>E/0/S</td>\n",
       "      <td>TRAPPIST-1e</td>\n",
       "      <td>10.00</td>\n",
       "      <td>False</td>\n",
       "      <td>0.00</td>\n",
       "      <td>0.00</td>\n",
       "      <td>0.00</td>\n",
       "      <td>0.00</td>\n",
       "      <td>0.00</td>\n",
       "      <td>Breney Jacostanley</td>\n",
       "      <td>True</td>\n",
       "    </tr>\n",
       "    <tr>\n",
       "      <th>25</th>\n",
       "      <td>0020_05</td>\n",
       "      <td>Earth</td>\n",
       "      <td>True</td>\n",
       "      <td>E/0/S</td>\n",
       "      <td>PSO J318.5-22</td>\n",
       "      <td>1.00</td>\n",
       "      <td>False</td>\n",
       "      <td>NaN</td>\n",
       "      <td>0.00</td>\n",
       "      <td>0.00</td>\n",
       "      <td>0.00</td>\n",
       "      <td>0.00</td>\n",
       "      <td>Mael Brantuarez</td>\n",
       "      <td>False</td>\n",
       "    </tr>\n",
       "    <tr>\n",
       "      <th>26</th>\n",
       "      <td>0020_06</td>\n",
       "      <td>Earth</td>\n",
       "      <td>False</td>\n",
       "      <td>E/0/S</td>\n",
       "      <td>TRAPPIST-1e</td>\n",
       "      <td>7.00</td>\n",
       "      <td>False</td>\n",
       "      <td>0.00</td>\n",
       "      <td>0.00</td>\n",
       "      <td>0.00</td>\n",
       "      <td>0.00</td>\n",
       "      <td>0.00</td>\n",
       "      <td>Terta Mcfaddennon</td>\n",
       "      <td>False</td>\n",
       "    </tr>\n",
       "    <tr>\n",
       "      <th>27</th>\n",
       "      <td>0022_01</td>\n",
       "      <td>Mars</td>\n",
       "      <td>False</td>\n",
       "      <td>D/0/P</td>\n",
       "      <td>TRAPPIST-1e</td>\n",
       "      <td>21.00</td>\n",
       "      <td>False</td>\n",
       "      <td>980.00</td>\n",
       "      <td>2.00</td>\n",
       "      <td>69.00</td>\n",
       "      <td>0.00</td>\n",
       "      <td>0.00</td>\n",
       "      <td>NaN</td>\n",
       "      <td>False</td>\n",
       "    </tr>\n",
       "    <tr>\n",
       "      <th>28</th>\n",
       "      <td>0024_01</td>\n",
       "      <td>Europa</td>\n",
       "      <td>True</td>\n",
       "      <td>C/2/S</td>\n",
       "      <td>TRAPPIST-1e</td>\n",
       "      <td>62.00</td>\n",
       "      <td>False</td>\n",
       "      <td>0.00</td>\n",
       "      <td>0.00</td>\n",
       "      <td>NaN</td>\n",
       "      <td>0.00</td>\n",
       "      <td>0.00</td>\n",
       "      <td>Penton Fullided</td>\n",
       "      <td>True</td>\n",
       "    </tr>\n",
       "    <tr>\n",
       "      <th>29</th>\n",
       "      <td>0025_01</td>\n",
       "      <td>Earth</td>\n",
       "      <td>False</td>\n",
       "      <td>F/6/S</td>\n",
       "      <td>TRAPPIST-1e</td>\n",
       "      <td>15.00</td>\n",
       "      <td>False</td>\n",
       "      <td>0.00</td>\n",
       "      <td>225.00</td>\n",
       "      <td>0.00</td>\n",
       "      <td>998.00</td>\n",
       "      <td>0.00</td>\n",
       "      <td>Karard Brookenson</td>\n",
       "      <td>False</td>\n",
       "    </tr>\n",
       "    <tr>\n",
       "      <th>30</th>\n",
       "      <td>0026_01</td>\n",
       "      <td>Europa</td>\n",
       "      <td>False</td>\n",
       "      <td>C/0/P</td>\n",
       "      <td>55 Cancri e</td>\n",
       "      <td>34.00</td>\n",
       "      <td>False</td>\n",
       "      <td>22.00</td>\n",
       "      <td>6073.00</td>\n",
       "      <td>0.00</td>\n",
       "      <td>1438.00</td>\n",
       "      <td>328.00</td>\n",
       "      <td>Anyoni Unconary</td>\n",
       "      <td>False</td>\n",
       "    </tr>\n",
       "    <tr>\n",
       "      <th>31</th>\n",
       "      <td>0028_01</td>\n",
       "      <td>Mars</td>\n",
       "      <td>False</td>\n",
       "      <td>F/8/P</td>\n",
       "      <td>TRAPPIST-1e</td>\n",
       "      <td>43.00</td>\n",
       "      <td>False</td>\n",
       "      <td>1125.00</td>\n",
       "      <td>0.00</td>\n",
       "      <td>136.00</td>\n",
       "      <td>48.00</td>\n",
       "      <td>0.00</td>\n",
       "      <td>Ceros Mare</td>\n",
       "      <td>False</td>\n",
       "    </tr>\n",
       "    <tr>\n",
       "      <th>32</th>\n",
       "      <td>0030_01</td>\n",
       "      <td>Earth</td>\n",
       "      <td>False</td>\n",
       "      <td>G/4/S</td>\n",
       "      <td>TRAPPIST-1e</td>\n",
       "      <td>32.00</td>\n",
       "      <td>False</td>\n",
       "      <td>0.00</td>\n",
       "      <td>850.00</td>\n",
       "      <td>81.00</td>\n",
       "      <td>437.00</td>\n",
       "      <td>453.00</td>\n",
       "      <td>Ginia Morsentley</td>\n",
       "      <td>False</td>\n",
       "    </tr>\n",
       "    <tr>\n",
       "      <th>33</th>\n",
       "      <td>0031_01</td>\n",
       "      <td>Mars</td>\n",
       "      <td>False</td>\n",
       "      <td>F/9/P</td>\n",
       "      <td>TRAPPIST-1e</td>\n",
       "      <td>47.00</td>\n",
       "      <td>False</td>\n",
       "      <td>214.00</td>\n",
       "      <td>0.00</td>\n",
       "      <td>1411.00</td>\n",
       "      <td>0.00</td>\n",
       "      <td>1229.00</td>\n",
       "      <td>Coobix Datie</td>\n",
       "      <td>True</td>\n",
       "    </tr>\n",
       "    <tr>\n",
       "      <th>34</th>\n",
       "      <td>0031_02</td>\n",
       "      <td>Mars</td>\n",
       "      <td>False</td>\n",
       "      <td>F/9/P</td>\n",
       "      <td>TRAPPIST-1e</td>\n",
       "      <td>2.00</td>\n",
       "      <td>False</td>\n",
       "      <td>0.00</td>\n",
       "      <td>0.00</td>\n",
       "      <td>0.00</td>\n",
       "      <td>0.00</td>\n",
       "      <td>0.00</td>\n",
       "      <td>Cinets Datie</td>\n",
       "      <td>True</td>\n",
       "    </tr>\n",
       "    <tr>\n",
       "      <th>35</th>\n",
       "      <td>0031_03</td>\n",
       "      <td>Mars</td>\n",
       "      <td>False</td>\n",
       "      <td>F/9/P</td>\n",
       "      <td>TRAPPIST-1e</td>\n",
       "      <td>20.00</td>\n",
       "      <td>False</td>\n",
       "      <td>NaN</td>\n",
       "      <td>0.00</td>\n",
       "      <td>1750.00</td>\n",
       "      <td>990.00</td>\n",
       "      <td>0.00</td>\n",
       "      <td>Dontch Datie</td>\n",
       "      <td>True</td>\n",
       "    </tr>\n",
       "    <tr>\n",
       "      <th>36</th>\n",
       "      <td>0034_01</td>\n",
       "      <td>Europa</td>\n",
       "      <td>True</td>\n",
       "      <td>D/1/S</td>\n",
       "      <td>55 Cancri e</td>\n",
       "      <td>28.00</td>\n",
       "      <td>False</td>\n",
       "      <td>0.00</td>\n",
       "      <td>0.00</td>\n",
       "      <td>0.00</td>\n",
       "      <td>0.00</td>\n",
       "      <td>0.00</td>\n",
       "      <td>Ziba Oingwhedly</td>\n",
       "      <td>True</td>\n",
       "    </tr>\n",
       "    <tr>\n",
       "      <th>37</th>\n",
       "      <td>0035_01</td>\n",
       "      <td>Mars</td>\n",
       "      <td>False</td>\n",
       "      <td>D/1/P</td>\n",
       "      <td>55 Cancri e</td>\n",
       "      <td>23.00</td>\n",
       "      <td>False</td>\n",
       "      <td>784.00</td>\n",
       "      <td>964.00</td>\n",
       "      <td>0.00</td>\n",
       "      <td>951.00</td>\n",
       "      <td>0.00</td>\n",
       "      <td>Luse Butte</td>\n",
       "      <td>False</td>\n",
       "    </tr>\n",
       "    <tr>\n",
       "      <th>38</th>\n",
       "      <td>0036_01</td>\n",
       "      <td>Earth</td>\n",
       "      <td>False</td>\n",
       "      <td>F/8/S</td>\n",
       "      <td>55 Cancri e</td>\n",
       "      <td>15.00</td>\n",
       "      <td>NaN</td>\n",
       "      <td>0.00</td>\n",
       "      <td>492.00</td>\n",
       "      <td>48.00</td>\n",
       "      <td>20.00</td>\n",
       "      <td>401.00</td>\n",
       "      <td>Marina Leodger</td>\n",
       "      <td>False</td>\n",
       "    </tr>\n",
       "    <tr>\n",
       "      <th>39</th>\n",
       "      <td>0038_01</td>\n",
       "      <td>Earth</td>\n",
       "      <td>False</td>\n",
       "      <td>F/10/S</td>\n",
       "      <td>55 Cancri e</td>\n",
       "      <td>20.00</td>\n",
       "      <td>False</td>\n",
       "      <td>554.00</td>\n",
       "      <td>195.00</td>\n",
       "      <td>0.00</td>\n",
       "      <td>2606.00</td>\n",
       "      <td>0.00</td>\n",
       "      <td>Loise Wheelez</td>\n",
       "      <td>False</td>\n",
       "    </tr>\n",
       "    <tr>\n",
       "      <th>40</th>\n",
       "      <td>0039_01</td>\n",
       "      <td>Earth</td>\n",
       "      <td>True</td>\n",
       "      <td>G/1/P</td>\n",
       "      <td>55 Cancri e</td>\n",
       "      <td>30.00</td>\n",
       "      <td>False</td>\n",
       "      <td>0.00</td>\n",
       "      <td>0.00</td>\n",
       "      <td>NaN</td>\n",
       "      <td>0.00</td>\n",
       "      <td>0.00</td>\n",
       "      <td>Jorgie Batthewitt</td>\n",
       "      <td>False</td>\n",
       "    </tr>\n",
       "    <tr>\n",
       "      <th>41</th>\n",
       "      <td>0041_01</td>\n",
       "      <td>Earth</td>\n",
       "      <td>True</td>\n",
       "      <td>G/2/P</td>\n",
       "      <td>TRAPPIST-1e</td>\n",
       "      <td>17.00</td>\n",
       "      <td>False</td>\n",
       "      <td>0.00</td>\n",
       "      <td>0.00</td>\n",
       "      <td>0.00</td>\n",
       "      <td>0.00</td>\n",
       "      <td>0.00</td>\n",
       "      <td>Margia Moodsey</td>\n",
       "      <td>True</td>\n",
       "    </tr>\n",
       "    <tr>\n",
       "      <th>42</th>\n",
       "      <td>0043_01</td>\n",
       "      <td>Europa</td>\n",
       "      <td>False</td>\n",
       "      <td>B/3/P</td>\n",
       "      <td>TRAPPIST-1e</td>\n",
       "      <td>45.00</td>\n",
       "      <td>False</td>\n",
       "      <td>0.00</td>\n",
       "      <td>164.00</td>\n",
       "      <td>45.00</td>\n",
       "      <td>2511.00</td>\n",
       "      <td>855.00</td>\n",
       "      <td>Ankalik Cylistrand</td>\n",
       "      <td>False</td>\n",
       "    </tr>\n",
       "    <tr>\n",
       "      <th>43</th>\n",
       "      <td>0044_01</td>\n",
       "      <td>Earth</td>\n",
       "      <td>True</td>\n",
       "      <td>G/3/P</td>\n",
       "      <td>TRAPPIST-1e</td>\n",
       "      <td>55.00</td>\n",
       "      <td>False</td>\n",
       "      <td>0.00</td>\n",
       "      <td>0.00</td>\n",
       "      <td>0.00</td>\n",
       "      <td>0.00</td>\n",
       "      <td>0.00</td>\n",
       "      <td>Jodye Coopelandez</td>\n",
       "      <td>False</td>\n",
       "    </tr>\n",
       "    <tr>\n",
       "      <th>44</th>\n",
       "      <td>0044_02</td>\n",
       "      <td>Earth</td>\n",
       "      <td>True</td>\n",
       "      <td>G/3/P</td>\n",
       "      <td>55 Cancri e</td>\n",
       "      <td>4.00</td>\n",
       "      <td>False</td>\n",
       "      <td>0.00</td>\n",
       "      <td>0.00</td>\n",
       "      <td>0.00</td>\n",
       "      <td>0.00</td>\n",
       "      <td>0.00</td>\n",
       "      <td>Kayne Coopelandez</td>\n",
       "      <td>True</td>\n",
       "    </tr>\n",
       "    <tr>\n",
       "      <th>45</th>\n",
       "      <td>0044_03</td>\n",
       "      <td>Earth</td>\n",
       "      <td>True</td>\n",
       "      <td>G/3/P</td>\n",
       "      <td>PSO J318.5-22</td>\n",
       "      <td>21.00</td>\n",
       "      <td>False</td>\n",
       "      <td>0.00</td>\n",
       "      <td>0.00</td>\n",
       "      <td>0.00</td>\n",
       "      <td>0.00</td>\n",
       "      <td>0.00</td>\n",
       "      <td>Cassa Coopelandez</td>\n",
       "      <td>True</td>\n",
       "    </tr>\n",
       "    <tr>\n",
       "      <th>46</th>\n",
       "      <td>0045_01</td>\n",
       "      <td>Mars</td>\n",
       "      <td>False</td>\n",
       "      <td>F/10/P</td>\n",
       "      <td>TRAPPIST-1e</td>\n",
       "      <td>21.00</td>\n",
       "      <td>False</td>\n",
       "      <td>970.00</td>\n",
       "      <td>0.00</td>\n",
       "      <td>180.00</td>\n",
       "      <td>0.00</td>\n",
       "      <td>64.00</td>\n",
       "      <td>Zelowl Chmad</td>\n",
       "      <td>False</td>\n",
       "    </tr>\n",
       "    <tr>\n",
       "      <th>47</th>\n",
       "      <td>0045_02</td>\n",
       "      <td>Mars</td>\n",
       "      <td>True</td>\n",
       "      <td>F/10/P</td>\n",
       "      <td>NaN</td>\n",
       "      <td>19.00</td>\n",
       "      <td>False</td>\n",
       "      <td>0.00</td>\n",
       "      <td>0.00</td>\n",
       "      <td>0.00</td>\n",
       "      <td>0.00</td>\n",
       "      <td>0.00</td>\n",
       "      <td>Mass Chmad</td>\n",
       "      <td>True</td>\n",
       "    </tr>\n",
       "    <tr>\n",
       "      <th>48</th>\n",
       "      <td>0050_01</td>\n",
       "      <td>Earth</td>\n",
       "      <td>False</td>\n",
       "      <td>E/1/S</td>\n",
       "      <td>55 Cancri e</td>\n",
       "      <td>35.00</td>\n",
       "      <td>False</td>\n",
       "      <td>790.00</td>\n",
       "      <td>0.00</td>\n",
       "      <td>0.00</td>\n",
       "      <td>NaN</td>\n",
       "      <td>0.00</td>\n",
       "      <td>Sony Lancis</td>\n",
       "      <td>False</td>\n",
       "    </tr>\n",
       "    <tr>\n",
       "      <th>49</th>\n",
       "      <td>0051_01</td>\n",
       "      <td>Earth</td>\n",
       "      <td>False</td>\n",
       "      <td>E/2/S</td>\n",
       "      <td>TRAPPIST-1e</td>\n",
       "      <td>56.00</td>\n",
       "      <td>False</td>\n",
       "      <td>0.00</td>\n",
       "      <td>112.00</td>\n",
       "      <td>0.00</td>\n",
       "      <td>1379.00</td>\n",
       "      <td>127.00</td>\n",
       "      <td>Vivia Johnshines</td>\n",
       "      <td>False</td>\n",
       "    </tr>\n",
       "  </tbody>\n",
       "</table>\n",
       "</div>"
      ],
      "text/plain": [
       "   PassengerId HomePlanet CryoSleep   Cabin    Destination   Age    VIP  \\\n",
       "0      0001_01     Europa     False   B/0/P    TRAPPIST-1e 39.00  False   \n",
       "1      0002_01      Earth     False   F/0/S    TRAPPIST-1e 24.00  False   \n",
       "2      0003_01     Europa     False   A/0/S    TRAPPIST-1e 58.00   True   \n",
       "3      0003_02     Europa     False   A/0/S    TRAPPIST-1e 33.00  False   \n",
       "4      0004_01      Earth     False   F/1/S    TRAPPIST-1e 16.00  False   \n",
       "5      0005_01      Earth     False   F/0/P  PSO J318.5-22 44.00  False   \n",
       "6      0006_01      Earth     False   F/2/S    TRAPPIST-1e 26.00  False   \n",
       "7      0006_02      Earth      True   G/0/S    TRAPPIST-1e 28.00  False   \n",
       "8      0007_01      Earth     False   F/3/S    TRAPPIST-1e 35.00  False   \n",
       "9      0008_01     Europa      True   B/1/P    55 Cancri e 14.00  False   \n",
       "10     0008_02     Europa      True   B/1/P    TRAPPIST-1e 34.00  False   \n",
       "11     0008_03     Europa     False   B/1/P    55 Cancri e 45.00  False   \n",
       "12     0009_01       Mars     False   F/1/P    TRAPPIST-1e 32.00  False   \n",
       "13     0010_01      Earth     False   G/1/S    TRAPPIST-1e 48.00  False   \n",
       "14     0011_01      Earth     False   F/2/P    TRAPPIST-1e 28.00  False   \n",
       "15     0012_01      Earth     False     NaN    TRAPPIST-1e 31.00  False   \n",
       "16     0014_01       Mars     False   F/3/P    55 Cancri e 27.00  False   \n",
       "17     0015_01      Earth     False   F/4/P    55 Cancri e 24.00  False   \n",
       "18     0016_01       Mars      True   F/5/P    TRAPPIST-1e 45.00  False   \n",
       "19     0017_01      Earth     False   G/0/P    TRAPPIST-1e  0.00  False   \n",
       "20     0017_02      Earth     False   F/6/P    55 Cancri e 14.00  False   \n",
       "21     0020_01      Earth      True   E/0/S    TRAPPIST-1e  1.00  False   \n",
       "22     0020_02      Earth      True   E/0/S    55 Cancri e 49.00  False   \n",
       "23     0020_03      Earth      True   E/0/S    55 Cancri e 29.00  False   \n",
       "24     0020_04      Earth     False   E/0/S    TRAPPIST-1e 10.00  False   \n",
       "25     0020_05      Earth      True   E/0/S  PSO J318.5-22  1.00  False   \n",
       "26     0020_06      Earth     False   E/0/S    TRAPPIST-1e  7.00  False   \n",
       "27     0022_01       Mars     False   D/0/P    TRAPPIST-1e 21.00  False   \n",
       "28     0024_01     Europa      True   C/2/S    TRAPPIST-1e 62.00  False   \n",
       "29     0025_01      Earth     False   F/6/S    TRAPPIST-1e 15.00  False   \n",
       "30     0026_01     Europa     False   C/0/P    55 Cancri e 34.00  False   \n",
       "31     0028_01       Mars     False   F/8/P    TRAPPIST-1e 43.00  False   \n",
       "32     0030_01      Earth     False   G/4/S    TRAPPIST-1e 32.00  False   \n",
       "33     0031_01       Mars     False   F/9/P    TRAPPIST-1e 47.00  False   \n",
       "34     0031_02       Mars     False   F/9/P    TRAPPIST-1e  2.00  False   \n",
       "35     0031_03       Mars     False   F/9/P    TRAPPIST-1e 20.00  False   \n",
       "36     0034_01     Europa      True   D/1/S    55 Cancri e 28.00  False   \n",
       "37     0035_01       Mars     False   D/1/P    55 Cancri e 23.00  False   \n",
       "38     0036_01      Earth     False   F/8/S    55 Cancri e 15.00    NaN   \n",
       "39     0038_01      Earth     False  F/10/S    55 Cancri e 20.00  False   \n",
       "40     0039_01      Earth      True   G/1/P    55 Cancri e 30.00  False   \n",
       "41     0041_01      Earth      True   G/2/P    TRAPPIST-1e 17.00  False   \n",
       "42     0043_01     Europa     False   B/3/P    TRAPPIST-1e 45.00  False   \n",
       "43     0044_01      Earth      True   G/3/P    TRAPPIST-1e 55.00  False   \n",
       "44     0044_02      Earth      True   G/3/P    55 Cancri e  4.00  False   \n",
       "45     0044_03      Earth      True   G/3/P  PSO J318.5-22 21.00  False   \n",
       "46     0045_01       Mars     False  F/10/P    TRAPPIST-1e 21.00  False   \n",
       "47     0045_02       Mars      True  F/10/P            NaN 19.00  False   \n",
       "48     0050_01      Earth     False   E/1/S    55 Cancri e 35.00  False   \n",
       "49     0051_01      Earth     False   E/2/S    TRAPPIST-1e 56.00  False   \n",
       "\n",
       "    RoomService  FoodCourt  ShoppingMall     Spa  VRDeck                Name  \\\n",
       "0          0.00       0.00          0.00    0.00    0.00     Maham Ofracculy   \n",
       "1        109.00       9.00         25.00  549.00   44.00        Juanna Vines   \n",
       "2         43.00    3576.00          0.00 6715.00   49.00       Altark Susent   \n",
       "3          0.00    1283.00        371.00 3329.00  193.00        Solam Susent   \n",
       "4        303.00      70.00        151.00  565.00    2.00   Willy Santantines   \n",
       "5          0.00     483.00          0.00  291.00    0.00   Sandie Hinetthews   \n",
       "6         42.00    1539.00          3.00    0.00    0.00  Billex Jacostaffey   \n",
       "7          0.00       0.00          0.00    0.00     NaN  Candra Jacostaffey   \n",
       "8          0.00     785.00         17.00  216.00    0.00       Andona Beston   \n",
       "9          0.00       0.00          0.00    0.00    0.00      Erraiam Flatic   \n",
       "10         0.00       0.00           NaN    0.00    0.00      Altardr Flatic   \n",
       "11        39.00    7295.00        589.00  110.00  124.00       Wezena Flatic   \n",
       "12        73.00       0.00       1123.00    0.00  113.00        Berers Barne   \n",
       "13       719.00       1.00         65.00    0.00   24.00      Reney Baketton   \n",
       "14         8.00     974.00         12.00    2.00    7.00     Elle Bertsontry   \n",
       "15        32.00       0.00        876.00    0.00    0.00       Justie Pooles   \n",
       "16      1286.00     122.00           NaN    0.00    0.00         Flats Eccle   \n",
       "17         0.00       1.00          0.00    0.00  637.00     Carry Hughriend   \n",
       "18         0.00       0.00          0.00    0.00    0.00          Alus Upead   \n",
       "19         0.00       0.00          0.00    0.00    0.00       Lyde Brighttt   \n",
       "20       412.00       0.00          1.00    0.00  679.00     Philda Brighttt   \n",
       "21         0.00       0.00          0.00    0.00    0.00   Almary Brantuarez   \n",
       "22         0.00       0.00          0.00    0.00    0.00   Glendy Brantuarez   \n",
       "23         0.00       0.00           NaN    0.00    0.00  Mollen Mcfaddennon   \n",
       "24         0.00       0.00          0.00    0.00    0.00  Breney Jacostanley   \n",
       "25          NaN       0.00          0.00    0.00    0.00     Mael Brantuarez   \n",
       "26         0.00       0.00          0.00    0.00    0.00   Terta Mcfaddennon   \n",
       "27       980.00       2.00         69.00    0.00    0.00                 NaN   \n",
       "28         0.00       0.00           NaN    0.00    0.00     Penton Fullided   \n",
       "29         0.00     225.00          0.00  998.00    0.00   Karard Brookenson   \n",
       "30        22.00    6073.00          0.00 1438.00  328.00     Anyoni Unconary   \n",
       "31      1125.00       0.00        136.00   48.00    0.00          Ceros Mare   \n",
       "32         0.00     850.00         81.00  437.00  453.00    Ginia Morsentley   \n",
       "33       214.00       0.00       1411.00    0.00 1229.00        Coobix Datie   \n",
       "34         0.00       0.00          0.00    0.00    0.00        Cinets Datie   \n",
       "35          NaN       0.00       1750.00  990.00    0.00        Dontch Datie   \n",
       "36         0.00       0.00          0.00    0.00    0.00     Ziba Oingwhedly   \n",
       "37       784.00     964.00          0.00  951.00    0.00          Luse Butte   \n",
       "38         0.00     492.00         48.00   20.00  401.00      Marina Leodger   \n",
       "39       554.00     195.00          0.00 2606.00    0.00       Loise Wheelez   \n",
       "40         0.00       0.00           NaN    0.00    0.00   Jorgie Batthewitt   \n",
       "41         0.00       0.00          0.00    0.00    0.00      Margia Moodsey   \n",
       "42         0.00     164.00         45.00 2511.00  855.00  Ankalik Cylistrand   \n",
       "43         0.00       0.00          0.00    0.00    0.00   Jodye Coopelandez   \n",
       "44         0.00       0.00          0.00    0.00    0.00   Kayne Coopelandez   \n",
       "45         0.00       0.00          0.00    0.00    0.00   Cassa Coopelandez   \n",
       "46       970.00       0.00        180.00    0.00   64.00        Zelowl Chmad   \n",
       "47         0.00       0.00          0.00    0.00    0.00          Mass Chmad   \n",
       "48       790.00       0.00          0.00     NaN    0.00         Sony Lancis   \n",
       "49         0.00     112.00          0.00 1379.00  127.00    Vivia Johnshines   \n",
       "\n",
       "   Transported  \n",
       "0        False  \n",
       "1         True  \n",
       "2        False  \n",
       "3        False  \n",
       "4         True  \n",
       "5         True  \n",
       "6         True  \n",
       "7         True  \n",
       "8         True  \n",
       "9         True  \n",
       "10        True  \n",
       "11        True  \n",
       "12        True  \n",
       "13       False  \n",
       "14        True  \n",
       "15       False  \n",
       "16       False  \n",
       "17       False  \n",
       "18        True  \n",
       "19        True  \n",
       "20       False  \n",
       "21       False  \n",
       "22       False  \n",
       "23       False  \n",
       "24        True  \n",
       "25       False  \n",
       "26       False  \n",
       "27       False  \n",
       "28        True  \n",
       "29       False  \n",
       "30       False  \n",
       "31       False  \n",
       "32       False  \n",
       "33        True  \n",
       "34        True  \n",
       "35        True  \n",
       "36        True  \n",
       "37       False  \n",
       "38       False  \n",
       "39       False  \n",
       "40       False  \n",
       "41        True  \n",
       "42       False  \n",
       "43       False  \n",
       "44        True  \n",
       "45        True  \n",
       "46       False  \n",
       "47        True  \n",
       "48       False  \n",
       "49       False  "
      ]
     },
     "execution_count": 10,
     "metadata": {},
     "output_type": "execute_result"
    }
   ],
   "source": [
    "data.head(50)"
   ]
  },
  {
   "cell_type": "code",
   "execution_count": 11,
   "id": "e69113d4",
   "metadata": {
    "execution": {
     "iopub.execute_input": "2023-08-26T16:31:53.469870Z",
     "iopub.status.busy": "2023-08-26T16:31:53.469484Z",
     "iopub.status.idle": "2023-08-26T16:31:53.525611Z",
     "shell.execute_reply": "2023-08-26T16:31:53.524394Z"
    },
    "papermill": {
     "duration": 0.075066,
     "end_time": "2023-08-26T16:31:53.528392",
     "exception": false,
     "start_time": "2023-08-26T16:31:53.453326",
     "status": "completed"
    },
    "tags": []
   },
   "outputs": [],
   "source": [
    "# divide PassengerId into Group and Id\n",
    "data[['Group', 'Id']] = data['PassengerId'].str.split('_', expand=True)\n",
    "data['Group'] = data['Group'].apply(lambda x: f'{x:04}').astype(int)\n",
    "data['Id'] = data['Id'].apply(lambda x: f'{x:02}').astype(int)\n",
    "\n",
    "# drop PassengerId\n",
    "data = data.drop(['PassengerId'], axis=1)"
   ]
  },
  {
   "cell_type": "code",
   "execution_count": 12,
   "id": "25e2e30c",
   "metadata": {
    "execution": {
     "iopub.execute_input": "2023-08-26T16:31:53.560094Z",
     "iopub.status.busy": "2023-08-26T16:31:53.559680Z",
     "iopub.status.idle": "2023-08-26T16:31:53.575050Z",
     "shell.execute_reply": "2023-08-26T16:31:53.573751Z"
    },
    "papermill": {
     "duration": 0.034687,
     "end_time": "2023-08-26T16:31:53.577955",
     "exception": false,
     "start_time": "2023-08-26T16:31:53.543268",
     "status": "completed"
    },
    "tags": []
   },
   "outputs": [],
   "source": [
    "# Calculate total spent\n",
    "data[['RoomService', 'FoodCourt', 'ShoppingMall', 'Spa', 'VRDeck']] = data[['RoomService', 'FoodCourt', 'ShoppingMall', 'Spa', 'VRDeck']].fillna(0).astype(int)\n",
    "data['TotalSpent'] = data['RoomService']+data['FoodCourt']+data['ShoppingMall']+data['Spa']+data['VRDeck']\n",
    "data = data.drop(['RoomService', 'FoodCourt', 'ShoppingMall', 'Spa', 'VRDeck'], axis=1)"
   ]
  },
  {
   "cell_type": "code",
   "execution_count": 13,
   "id": "eadfec72",
   "metadata": {
    "execution": {
     "iopub.execute_input": "2023-08-26T16:31:53.609194Z",
     "iopub.status.busy": "2023-08-26T16:31:53.608777Z",
     "iopub.status.idle": "2023-08-26T16:31:53.615944Z",
     "shell.execute_reply": "2023-08-26T16:31:53.614640Z"
    },
    "papermill": {
     "duration": 0.026131,
     "end_time": "2023-08-26T16:31:53.618608",
     "exception": false,
     "start_time": "2023-08-26T16:31:53.592477",
     "status": "completed"
    },
    "tags": []
   },
   "outputs": [],
   "source": [
    "# Fill NaN Age\n",
    "data['Age'] = data['Age'].fillna(data['Age'].mean())"
   ]
  },
  {
   "cell_type": "code",
   "execution_count": 14,
   "id": "df3d93de",
   "metadata": {
    "execution": {
     "iopub.execute_input": "2023-08-26T16:31:53.650505Z",
     "iopub.status.busy": "2023-08-26T16:31:53.650094Z",
     "iopub.status.idle": "2023-08-26T16:31:53.697191Z",
     "shell.execute_reply": "2023-08-26T16:31:53.695807Z"
    },
    "papermill": {
     "duration": 0.067044,
     "end_time": "2023-08-26T16:31:53.700444",
     "exception": false,
     "start_time": "2023-08-26T16:31:53.633400",
     "status": "completed"
    },
    "tags": []
   },
   "outputs": [],
   "source": [
    "# Change string to numeric\n",
    "data['HomePlanet'] = data['HomePlanet'].fillna(0).map({'Europa':1, 'Earth':2, 'Mars':3})\n",
    "data['Destination'] = data['Destination'].fillna(0).map({'TRAPPIST-1e':1, 'PSO J318.5-22':2, '55 Cancri e':3})\n",
    "data['CryoSleep'] = data['CryoSleep'].fillna(0).map({False:0, True:1})\n",
    "data['Transported'] = data['Transported'].fillna(0).map({False:0, True:1})\n",
    "data['VIP'] = data['VIP'].fillna(0).map({False:0, True:1})"
   ]
  },
  {
   "cell_type": "code",
   "execution_count": 15,
   "id": "43064272",
   "metadata": {
    "execution": {
     "iopub.execute_input": "2023-08-26T16:31:53.733252Z",
     "iopub.status.busy": "2023-08-26T16:31:53.732798Z",
     "iopub.status.idle": "2023-08-26T16:31:53.740299Z",
     "shell.execute_reply": "2023-08-26T16:31:53.738964Z"
    },
    "papermill": {
     "duration": 0.027626,
     "end_time": "2023-08-26T16:31:53.743488",
     "exception": false,
     "start_time": "2023-08-26T16:31:53.715862",
     "status": "completed"
    },
    "tags": []
   },
   "outputs": [],
   "source": [
    "# drop the rest\n",
    "data = data.drop(['Cabin', 'Name'], axis=1)\n"
   ]
  },
  {
   "cell_type": "code",
   "execution_count": 16,
   "id": "65fda55d",
   "metadata": {
    "execution": {
     "iopub.execute_input": "2023-08-26T16:31:53.777212Z",
     "iopub.status.busy": "2023-08-26T16:31:53.776802Z",
     "iopub.status.idle": "2023-08-26T16:31:53.784872Z",
     "shell.execute_reply": "2023-08-26T16:31:53.783988Z"
    },
    "papermill": {
     "duration": 0.028244,
     "end_time": "2023-08-26T16:31:53.787191",
     "exception": false,
     "start_time": "2023-08-26T16:31:53.758947",
     "status": "completed"
    },
    "tags": []
   },
   "outputs": [
    {
     "data": {
      "text/plain": [
       "array([ 1.,  2.,  3., nan])"
      ]
     },
     "execution_count": 16,
     "metadata": {},
     "output_type": "execute_result"
    }
   ],
   "source": [
    "data['Destination'].unique()"
   ]
  },
  {
   "cell_type": "code",
   "execution_count": 17,
   "id": "73cb7989",
   "metadata": {
    "execution": {
     "iopub.execute_input": "2023-08-26T16:31:53.820418Z",
     "iopub.status.busy": "2023-08-26T16:31:53.820030Z",
     "iopub.status.idle": "2023-08-26T16:31:53.826618Z",
     "shell.execute_reply": "2023-08-26T16:31:53.825701Z"
    },
    "papermill": {
     "duration": 0.026644,
     "end_time": "2023-08-26T16:31:53.829153",
     "exception": false,
     "start_time": "2023-08-26T16:31:53.802509",
     "status": "completed"
    },
    "tags": []
   },
   "outputs": [],
   "source": [
    "data['HomePlanet'] = data['HomePlanet'].fillna(0)\n",
    "data['Destination'] = data['Destination'].fillna(0)"
   ]
  },
  {
   "cell_type": "code",
   "execution_count": 18,
   "id": "8337f38a",
   "metadata": {
    "execution": {
     "iopub.execute_input": "2023-08-26T16:31:53.863565Z",
     "iopub.status.busy": "2023-08-26T16:31:53.863130Z",
     "iopub.status.idle": "2023-08-26T16:31:53.868269Z",
     "shell.execute_reply": "2023-08-26T16:31:53.867276Z"
    },
    "papermill": {
     "duration": 0.024896,
     "end_time": "2023-08-26T16:31:53.870578",
     "exception": false,
     "start_time": "2023-08-26T16:31:53.845682",
     "status": "completed"
    },
    "tags": []
   },
   "outputs": [],
   "source": [
    "train = data[:split]\n",
    "test = data[split:]"
   ]
  },
  {
   "cell_type": "code",
   "execution_count": 19,
   "id": "ffe5ad9a",
   "metadata": {
    "execution": {
     "iopub.execute_input": "2023-08-26T16:31:53.904428Z",
     "iopub.status.busy": "2023-08-26T16:31:53.904019Z",
     "iopub.status.idle": "2023-08-26T16:31:53.910924Z",
     "shell.execute_reply": "2023-08-26T16:31:53.909732Z"
    },
    "papermill": {
     "duration": 0.02754,
     "end_time": "2023-08-26T16:31:53.914054",
     "exception": false,
     "start_time": "2023-08-26T16:31:53.886514",
     "status": "completed"
    },
    "tags": []
   },
   "outputs": [],
   "source": [
    "X = train.drop(['Transported'], axis=1)\n",
    "y = train['Transported']"
   ]
  },
  {
   "cell_type": "code",
   "execution_count": 20,
   "id": "75f04eaf",
   "metadata": {
    "execution": {
     "iopub.execute_input": "2023-08-26T16:31:53.951745Z",
     "iopub.status.busy": "2023-08-26T16:31:53.951262Z",
     "iopub.status.idle": "2023-08-26T16:31:53.969791Z",
     "shell.execute_reply": "2023-08-26T16:31:53.968244Z"
    },
    "papermill": {
     "duration": 0.042171,
     "end_time": "2023-08-26T16:31:53.973489",
     "exception": false,
     "start_time": "2023-08-26T16:31:53.931318",
     "status": "completed"
    },
    "tags": []
   },
   "outputs": [
    {
     "data": {
      "text/plain": [
       "HomePlanet     0\n",
       "CryoSleep      0\n",
       "Destination    0\n",
       "Age            0\n",
       "VIP            0\n",
       "Group          0\n",
       "Id             0\n",
       "TotalSpent     0\n",
       "dtype: int64"
      ]
     },
     "execution_count": 20,
     "metadata": {},
     "output_type": "execute_result"
    }
   ],
   "source": [
    "X.isnull().sum()"
   ]
  },
  {
   "cell_type": "markdown",
   "id": "f0386e8e",
   "metadata": {
    "papermill": {
     "duration": 0.01611,
     "end_time": "2023-08-26T16:31:54.011534",
     "exception": false,
     "start_time": "2023-08-26T16:31:53.995424",
     "status": "completed"
    },
    "tags": []
   },
   "source": [
    "## Model"
   ]
  },
  {
   "cell_type": "code",
   "execution_count": 21,
   "id": "83d00dc4",
   "metadata": {
    "execution": {
     "iopub.execute_input": "2023-08-26T16:31:54.045457Z",
     "iopub.status.busy": "2023-08-26T16:31:54.044793Z",
     "iopub.status.idle": "2023-08-26T16:31:54.065501Z",
     "shell.execute_reply": "2023-08-26T16:31:54.063470Z"
    },
    "papermill": {
     "duration": 0.041488,
     "end_time": "2023-08-26T16:31:54.068574",
     "exception": false,
     "start_time": "2023-08-26T16:31:54.027086",
     "status": "completed"
    },
    "tags": []
   },
   "outputs": [],
   "source": [
    "#scaler\n",
    "scaler = MinMaxScaler()\n",
    "X_scaled = scaler.fit_transform(X)"
   ]
  },
  {
   "cell_type": "code",
   "execution_count": 22,
   "id": "f51239f2",
   "metadata": {
    "execution": {
     "iopub.execute_input": "2023-08-26T16:31:54.110243Z",
     "iopub.status.busy": "2023-08-26T16:31:54.109733Z",
     "iopub.status.idle": "2023-08-26T16:31:54.120044Z",
     "shell.execute_reply": "2023-08-26T16:31:54.118630Z"
    },
    "papermill": {
     "duration": 0.032652,
     "end_time": "2023-08-26T16:31:54.122954",
     "exception": false,
     "start_time": "2023-08-26T16:31:54.090302",
     "status": "completed"
    },
    "tags": []
   },
   "outputs": [],
   "source": [
    "X_train, X_test, y_train, y_test = train_test_split(X_scaled, y, test_size=0.2, random_state=42)"
   ]
  },
  {
   "cell_type": "code",
   "execution_count": 23,
   "id": "eb8debeb",
   "metadata": {
    "execution": {
     "iopub.execute_input": "2023-08-26T16:31:54.158442Z",
     "iopub.status.busy": "2023-08-26T16:31:54.157760Z",
     "iopub.status.idle": "2023-08-26T16:32:16.568129Z",
     "shell.execute_reply": "2023-08-26T16:32:16.566140Z"
    },
    "papermill": {
     "duration": 22.43127,
     "end_time": "2023-08-26T16:32:16.571059",
     "exception": false,
     "start_time": "2023-08-26T16:31:54.139789",
     "status": "completed"
    },
    "tags": []
   },
   "outputs": [
    {
     "name": "stderr",
     "output_type": "stream",
     "text": [
      "  3%|▎         | 1/29 [00:00<00:11,  2.34it/s]"
     ]
    },
    {
     "name": "stdout",
     "output_type": "stream",
     "text": [
      "{'Model': 'AdaBoostClassifier', 'Accuracy': 0.7372052903967797, 'Balanced Accuracy': 0.7376692885054461, 'ROC AUC': 0.737669288505446, 'F1 Score': 0.736675213339988, 'Time taken': 0.42686915397644043}\n"
     ]
    },
    {
     "name": "stderr",
     "output_type": "stream",
     "text": [
      "  7%|▋         | 2/29 [00:00<00:09,  2.93it/s]"
     ]
    },
    {
     "name": "stdout",
     "output_type": "stream",
     "text": [
      "{'Model': 'BaggingClassifier', 'Accuracy': 0.6923519263944796, 'Balanced Accuracy': 0.6930927379563415, 'ROC AUC': 0.6930927379563415, 'F1 Score': 0.6906714602216766, 'Time taken': 0.27728843688964844}\n",
      "{'Model': 'BernoulliNB', 'Accuracy': 0.7291546866014951, 'Balanced Accuracy': 0.7302588239029153, 'ROC AUC': 0.7302588239029152, 'F1 Score': 0.725804835310479, 'Time taken': 0.026992321014404297}\n"
     ]
    },
    {
     "name": "stderr",
     "output_type": "stream",
     "text": [
      " 21%|██        | 6/29 [00:03<00:11,  1.95it/s]"
     ]
    },
    {
     "name": "stdout",
     "output_type": "stream",
     "text": [
      "{'Model': 'CalibratedClassifierCV', 'Accuracy': 0.723404255319149, 'Balanced Accuracy': 0.724687747202887, 'ROC AUC': 0.724687747202887, 'F1 Score': 0.7187289658906256, 'Time taken': 2.470768928527832}\n",
      "{'Model': 'DecisionTreeClassifier', 'Accuracy': 0.6520989074180563, 'Balanced Accuracy': 0.6519475949722074, 'ROC AUC': 0.6519475949722074, 'F1 Score': 0.6520070600020472, 'Time taken': 0.08572578430175781}\n",
      "{'Model': 'DummyClassifier', 'Accuracy': 0.5048878665899943, 'Balanced Accuracy': 0.5, 'ROC AUC': 0.5, 'F1 Score': 0.33877840799848297, 'Time taken': 0.020009517669677734}\n",
      "{'Model': 'ExtraTreeClassifier', 'Accuracy': 0.6394479585968947, 'Balanced Accuracy': 0.6392841930371793, 'ROC AUC': 0.6392841930371793, 'F1 Score': 0.6393382131631689, 'Time taken': 0.026794910430908203}\n"
     ]
    },
    {
     "name": "stderr",
     "output_type": "stream",
     "text": [
      " 38%|███▊      | 11/29 [00:04<00:05,  3.14it/s]"
     ]
    },
    {
     "name": "stdout",
     "output_type": "stream",
     "text": [
      "{'Model': 'ExtraTreesClassifier', 'Accuracy': 0.7038527889591719, 'Balanced Accuracy': 0.7043810634982366, 'ROC AUC': 0.7043810634982367, 'F1 Score': 0.7030560349824068, 'Time taken': 0.9892048835754395}\n",
      "{'Model': 'GaussianNB', 'Accuracy': 0.7199539965497412, 'Balanced Accuracy': 0.7204950539580242, 'ROC AUC': 0.7204950539580242, 'F1 Score': 0.7191665059609499, 'Time taken': 0.023715734481811523}\n",
      "{'Model': 'KNeighborsClassifier', 'Accuracy': 0.6940770557791834, 'Balanced Accuracy': 0.6943626497768395, 'ROC AUC': 0.6943626497768396, 'F1 Score': 0.6938560090941513, 'Time taken': 0.1493532657623291}\n"
     ]
    },
    {
     "name": "stderr",
     "output_type": "stream",
     "text": [
      " 41%|████▏     | 12/29 [00:06<00:10,  1.55it/s]"
     ]
    },
    {
     "name": "stdout",
     "output_type": "stream",
     "text": [
      "{'Model': 'LabelPropagation', 'Accuracy': 0.6894767107533065, 'Balanced Accuracy': 0.6897843530989817, 'ROC AUC': 0.6897843530989818, 'F1 Score': 0.6892116286937643, 'Time taken': 2.057785749435425}\n"
     ]
    },
    {
     "name": "stderr",
     "output_type": "stream",
     "text": [
      " 45%|████▍     | 13/29 [00:09<00:19,  1.22s/it]"
     ]
    },
    {
     "name": "stdout",
     "output_type": "stream",
     "text": [
      "{'Model': 'LabelSpreading', 'Accuracy': 0.6889016676250719, 'Balanced Accuracy': 0.6892261210278878, 'ROC AUC': 0.6892261210278878, 'F1 Score': 0.6886033349064885, 'Time taken': 3.356738567352295}\n",
      "{'Model': 'LinearDiscriminantAnalysis', 'Accuracy': 0.7228292121909143, 'Balanced Accuracy': 0.7241407591427037, 'ROC AUC': 0.7241407591427037, 'F1 Score': 0.7179292938312364, 'Time taken': 0.19095826148986816}\n"
     ]
    },
    {
     "name": "stderr",
     "output_type": "stream",
     "text": [
      " 55%|█████▌    | 16/29 [00:10<00:08,  1.46it/s]"
     ]
    },
    {
     "name": "stdout",
     "output_type": "stream",
     "text": [
      "{'Model': 'LinearSVC', 'Accuracy': 0.7228292121909143, 'Balanced Accuracy': 0.7241407591427037, 'ROC AUC': 0.7241407591427037, 'F1 Score': 0.7179292938312364, 'Time taken': 0.5829517841339111}\n",
      "{'Model': 'LogisticRegression', 'Accuracy': 0.7239792984473835, 'Balanced Accuracy': 0.7252234912521596, 'ROC AUC': 0.7252234912521596, 'F1 Score': 0.7196049235842302, 'Time taken': 0.11366653442382812}\n",
      "{'Model': 'NearestCentroid', 'Accuracy': 0.7274295572167913, 'Balanced Accuracy': 0.7286066157114548, 'ROC AUC': 0.7286066157114549, 'F1 Score': 0.7235803700206608, 'Time taken': 0.08156299591064453}\n"
     ]
    },
    {
     "name": "stderr",
     "output_type": "stream",
     "text": [
      " 69%|██████▉   | 20/29 [00:16<00:08,  1.02it/s]"
     ]
    },
    {
     "name": "stdout",
     "output_type": "stream",
     "text": [
      "{'Model': 'NuSVC', 'Accuracy': 0.7320299022426682, 'Balanced Accuracy': 0.7328138600292609, 'ROC AUC': 0.7328138600292609, 'F1 Score': 0.7304006967302247, 'Time taken': 5.224836826324463}\n",
      "{'Model': 'PassiveAggressiveClassifier', 'Accuracy': 0.4088556641748131, 'Balanced Accuracy': 0.40653911989819536, 'ROC AUC': 0.40653911989819547, 'F1 Score': 0.37390075024015035, 'Time taken': 0.07772564888000488}\n",
      "{'Model': 'Perceptron', 'Accuracy': 0.5761932144910868, 'Balanced Accuracy': 0.5749439783691687, 'ROC AUC': 0.5749439783691688, 'F1 Score': 0.5690762553246518, 'Time taken': 0.10160183906555176}\n",
      "{'Model': 'QuadraticDiscriminantAnalysis', 'Accuracy': 0.7251293847038528, 'Balanced Accuracy': 0.7258114868815464, 'ROC AUC': 0.7258114868815464, 'F1 Score': 0.7238761402643401, 'Time taken': 0.08784627914428711}\n"
     ]
    },
    {
     "name": "stderr",
     "output_type": "stream",
     "text": [
      " 76%|███████▌  | 22/29 [00:17<00:06,  1.15it/s]"
     ]
    },
    {
     "name": "stdout",
     "output_type": "stream",
     "text": [
      "{'Model': 'RandomForestClassifier', 'Accuracy': 0.7096032202415181, 'Balanced Accuracy': 0.7101995084382995, 'ROC AUC': 0.7101995084382996, 'F1 Score': 0.7085983401058095, 'Time taken': 1.206239938735962}\n",
      "{'Model': 'RidgeClassifier', 'Accuracy': 0.7228292121909143, 'Balanced Accuracy': 0.7241407591427037, 'ROC AUC': 0.7241407591427037, 'F1 Score': 0.7179292938312364, 'Time taken': 0.08485937118530273}\n"
     ]
    },
    {
     "name": "stderr",
     "output_type": "stream",
     "text": [
      " 86%|████████▌ | 25/29 [00:18<00:02,  1.89it/s]"
     ]
    },
    {
     "name": "stdout",
     "output_type": "stream",
     "text": [
      "{'Model': 'RidgeClassifierCV', 'Accuracy': 0.7228292121909143, 'Balanced Accuracy': 0.7241407591427037, 'ROC AUC': 0.7241407591427037, 'F1 Score': 0.7179292938312364, 'Time taken': 0.16173601150512695}\n",
      "{'Model': 'SGDClassifier', 'Accuracy': 0.7222541690626797, 'Balanced Accuracy': 0.7235825270716099, 'ROC AUC': 0.7235825270716099, 'F1 Score': 0.7172124379824747, 'Time taken': 0.14224576950073242}\n"
     ]
    },
    {
     "name": "stderr",
     "output_type": "stream",
     "text": [
      " 90%|████████▉ | 26/29 [00:20<00:02,  1.02it/s]"
     ]
    },
    {
     "name": "stdout",
     "output_type": "stream",
     "text": [
      "{'Model': 'SVC', 'Accuracy': 0.7452558941920644, 'Balanced Accuracy': 0.7461929101881322, 'ROC AUC': 0.7461929101881322, 'F1 Score': 0.7430200522699417, 'Time taken': 2.601687431335449}\n"
     ]
    },
    {
     "name": "stderr",
     "output_type": "stream",
     "text": [
      " 97%|█████████▋| 28/29 [00:21<00:00,  1.33it/s]"
     ]
    },
    {
     "name": "stdout",
     "output_type": "stream",
     "text": [
      "{'Model': 'XGBClassifier', 'Accuracy': 0.7285796434732605, 'Balanced Accuracy': 0.7290709272208244, 'ROC AUC': 0.7290709272208244, 'F1 Score': 0.7279592018824701, 'Time taken': 0.7523305416107178}\n"
     ]
    },
    {
     "name": "stderr",
     "output_type": "stream",
     "text": [
      "100%|██████████| 29/29 [00:22<00:00,  1.30it/s]"
     ]
    },
    {
     "name": "stdout",
     "output_type": "stream",
     "text": [
      "{'Model': 'LGBMClassifier', 'Accuracy': 0.7366302472685451, 'Balanced Accuracy': 0.7373696686852973, 'ROC AUC': 0.7373696686852973, 'F1 Score': 0.7352141566632858, 'Time taken': 0.9016857147216797}\n",
      "                               Accuracy  Balanced Accuracy  ROC AUC  F1 Score  \\\n",
      "Model                                                                           \n",
      "SVC                                0.75               0.75     0.75      0.74   \n",
      "AdaBoostClassifier                 0.74               0.74     0.74      0.74   \n",
      "LGBMClassifier                     0.74               0.74     0.74      0.74   \n",
      "NuSVC                              0.73               0.73     0.73      0.73   \n",
      "BernoulliNB                        0.73               0.73     0.73      0.73   \n",
      "XGBClassifier                      0.73               0.73     0.73      0.73   \n",
      "NearestCentroid                    0.73               0.73     0.73      0.72   \n",
      "QuadraticDiscriminantAnalysis      0.73               0.73     0.73      0.72   \n",
      "LogisticRegression                 0.72               0.73     0.73      0.72   \n",
      "CalibratedClassifierCV             0.72               0.72     0.72      0.72   \n",
      "LinearSVC                          0.72               0.72     0.72      0.72   \n",
      "LinearDiscriminantAnalysis         0.72               0.72     0.72      0.72   \n",
      "RidgeClassifierCV                  0.72               0.72     0.72      0.72   \n",
      "RidgeClassifier                    0.72               0.72     0.72      0.72   \n",
      "SGDClassifier                      0.72               0.72     0.72      0.72   \n",
      "GaussianNB                         0.72               0.72     0.72      0.72   \n",
      "RandomForestClassifier             0.71               0.71     0.71      0.71   \n",
      "ExtraTreesClassifier               0.70               0.70     0.70      0.70   \n",
      "KNeighborsClassifier               0.69               0.69     0.69      0.69   \n",
      "BaggingClassifier                  0.69               0.69     0.69      0.69   \n",
      "LabelPropagation                   0.69               0.69     0.69      0.69   \n",
      "LabelSpreading                     0.69               0.69     0.69      0.69   \n",
      "DecisionTreeClassifier             0.65               0.65     0.65      0.65   \n",
      "ExtraTreeClassifier                0.64               0.64     0.64      0.64   \n",
      "Perceptron                         0.58               0.57     0.57      0.57   \n",
      "DummyClassifier                    0.50               0.50     0.50      0.34   \n",
      "PassiveAggressiveClassifier        0.41               0.41     0.41      0.37   \n",
      "\n",
      "                               Time Taken  \n",
      "Model                                      \n",
      "SVC                                  2.60  \n",
      "AdaBoostClassifier                   0.43  \n",
      "LGBMClassifier                       0.90  \n",
      "NuSVC                                5.22  \n",
      "BernoulliNB                          0.03  \n",
      "XGBClassifier                        0.75  \n",
      "NearestCentroid                      0.08  \n",
      "QuadraticDiscriminantAnalysis        0.09  \n",
      "LogisticRegression                   0.11  \n",
      "CalibratedClassifierCV               2.47  \n",
      "LinearSVC                            0.58  \n",
      "LinearDiscriminantAnalysis           0.19  \n",
      "RidgeClassifierCV                    0.16  \n",
      "RidgeClassifier                      0.08  \n",
      "SGDClassifier                        0.14  \n",
      "GaussianNB                           0.02  \n",
      "RandomForestClassifier               1.21  \n",
      "ExtraTreesClassifier                 0.99  \n",
      "KNeighborsClassifier                 0.15  \n",
      "BaggingClassifier                    0.28  \n",
      "LabelPropagation                     2.06  \n",
      "LabelSpreading                       3.36  \n",
      "DecisionTreeClassifier               0.09  \n",
      "ExtraTreeClassifier                  0.03  \n",
      "Perceptron                           0.10  \n",
      "DummyClassifier                      0.02  \n",
      "PassiveAggressiveClassifier          0.08  \n"
     ]
    },
    {
     "name": "stderr",
     "output_type": "stream",
     "text": [
      "\n"
     ]
    }
   ],
   "source": [
    "lc = LazyClassifier(verbose=1, ignore_warnings=True, custom_metric=None, predictions=True)\n",
    "models, predictions = lc.fit(X_train, X_test, y_train, y_test)\n",
    "print(models)"
   ]
  },
  {
   "cell_type": "markdown",
   "id": "97100ca6",
   "metadata": {
    "papermill": {
     "duration": 0.018146,
     "end_time": "2023-08-26T16:32:16.608484",
     "exception": false,
     "start_time": "2023-08-26T16:32:16.590338",
     "status": "completed"
    },
    "tags": []
   },
   "source": [
    "## Support Vector Classification."
   ]
  },
  {
   "cell_type": "code",
   "execution_count": 24,
   "id": "b15a9df4",
   "metadata": {
    "execution": {
     "iopub.execute_input": "2023-08-26T16:32:16.647749Z",
     "iopub.status.busy": "2023-08-26T16:32:16.647267Z",
     "iopub.status.idle": "2023-08-26T16:32:18.815963Z",
     "shell.execute_reply": "2023-08-26T16:32:18.815000Z"
    },
    "papermill": {
     "duration": 2.191419,
     "end_time": "2023-08-26T16:32:18.818472",
     "exception": false,
     "start_time": "2023-08-26T16:32:16.627053",
     "status": "completed"
    },
    "tags": []
   },
   "outputs": [
    {
     "data": {
      "text/html": [
       "<style>#sk-container-id-1 {color: black;background-color: white;}#sk-container-id-1 pre{padding: 0;}#sk-container-id-1 div.sk-toggleable {background-color: white;}#sk-container-id-1 label.sk-toggleable__label {cursor: pointer;display: block;width: 100%;margin-bottom: 0;padding: 0.3em;box-sizing: border-box;text-align: center;}#sk-container-id-1 label.sk-toggleable__label-arrow:before {content: \"▸\";float: left;margin-right: 0.25em;color: #696969;}#sk-container-id-1 label.sk-toggleable__label-arrow:hover:before {color: black;}#sk-container-id-1 div.sk-estimator:hover label.sk-toggleable__label-arrow:before {color: black;}#sk-container-id-1 div.sk-toggleable__content {max-height: 0;max-width: 0;overflow: hidden;text-align: left;background-color: #f0f8ff;}#sk-container-id-1 div.sk-toggleable__content pre {margin: 0.2em;color: black;border-radius: 0.25em;background-color: #f0f8ff;}#sk-container-id-1 input.sk-toggleable__control:checked~div.sk-toggleable__content {max-height: 200px;max-width: 100%;overflow: auto;}#sk-container-id-1 input.sk-toggleable__control:checked~label.sk-toggleable__label-arrow:before {content: \"▾\";}#sk-container-id-1 div.sk-estimator input.sk-toggleable__control:checked~label.sk-toggleable__label {background-color: #d4ebff;}#sk-container-id-1 div.sk-label input.sk-toggleable__control:checked~label.sk-toggleable__label {background-color: #d4ebff;}#sk-container-id-1 input.sk-hidden--visually {border: 0;clip: rect(1px 1px 1px 1px);clip: rect(1px, 1px, 1px, 1px);height: 1px;margin: -1px;overflow: hidden;padding: 0;position: absolute;width: 1px;}#sk-container-id-1 div.sk-estimator {font-family: monospace;background-color: #f0f8ff;border: 1px dotted black;border-radius: 0.25em;box-sizing: border-box;margin-bottom: 0.5em;}#sk-container-id-1 div.sk-estimator:hover {background-color: #d4ebff;}#sk-container-id-1 div.sk-parallel-item::after {content: \"\";width: 100%;border-bottom: 1px solid gray;flex-grow: 1;}#sk-container-id-1 div.sk-label:hover label.sk-toggleable__label {background-color: #d4ebff;}#sk-container-id-1 div.sk-serial::before {content: \"\";position: absolute;border-left: 1px solid gray;box-sizing: border-box;top: 0;bottom: 0;left: 50%;z-index: 0;}#sk-container-id-1 div.sk-serial {display: flex;flex-direction: column;align-items: center;background-color: white;padding-right: 0.2em;padding-left: 0.2em;position: relative;}#sk-container-id-1 div.sk-item {position: relative;z-index: 1;}#sk-container-id-1 div.sk-parallel {display: flex;align-items: stretch;justify-content: center;background-color: white;position: relative;}#sk-container-id-1 div.sk-item::before, #sk-container-id-1 div.sk-parallel-item::before {content: \"\";position: absolute;border-left: 1px solid gray;box-sizing: border-box;top: 0;bottom: 0;left: 50%;z-index: -1;}#sk-container-id-1 div.sk-parallel-item {display: flex;flex-direction: column;z-index: 1;position: relative;background-color: white;}#sk-container-id-1 div.sk-parallel-item:first-child::after {align-self: flex-end;width: 50%;}#sk-container-id-1 div.sk-parallel-item:last-child::after {align-self: flex-start;width: 50%;}#sk-container-id-1 div.sk-parallel-item:only-child::after {width: 0;}#sk-container-id-1 div.sk-dashed-wrapped {border: 1px dashed gray;margin: 0 0.4em 0.5em 0.4em;box-sizing: border-box;padding-bottom: 0.4em;background-color: white;}#sk-container-id-1 div.sk-label label {font-family: monospace;font-weight: bold;display: inline-block;line-height: 1.2em;}#sk-container-id-1 div.sk-label-container {text-align: center;}#sk-container-id-1 div.sk-container {/* jupyter's `normalize.less` sets `[hidden] { display: none; }` but bootstrap.min.css set `[hidden] { display: none !important; }` so we also need the `!important` here to be able to override the default hidden behavior on the sphinx rendered scikit-learn.org. See: https://github.com/scikit-learn/scikit-learn/issues/21755 */display: inline-block !important;position: relative;}#sk-container-id-1 div.sk-text-repr-fallback {display: none;}</style><div id=\"sk-container-id-1\" class=\"sk-top-container\"><div class=\"sk-text-repr-fallback\"><pre>SVC(gamma=&#x27;auto&#x27;)</pre><b>In a Jupyter environment, please rerun this cell to show the HTML representation or trust the notebook. <br />On GitHub, the HTML representation is unable to render, please try loading this page with nbviewer.org.</b></div><div class=\"sk-container\" hidden><div class=\"sk-item\"><div class=\"sk-estimator sk-toggleable\"><input class=\"sk-toggleable__control sk-hidden--visually\" id=\"sk-estimator-id-1\" type=\"checkbox\" checked><label for=\"sk-estimator-id-1\" class=\"sk-toggleable__label sk-toggleable__label-arrow\">SVC</label><div class=\"sk-toggleable__content\"><pre>SVC(gamma=&#x27;auto&#x27;)</pre></div></div></div></div></div>"
      ],
      "text/plain": [
       "SVC(gamma='auto')"
      ]
     },
     "execution_count": 24,
     "metadata": {},
     "output_type": "execute_result"
    }
   ],
   "source": [
    "from sklearn.svm import SVC\n",
    "\n",
    "msvc = SVC(gamma='auto',)\n",
    "msvc.fit(X_train, y_train)"
   ]
  },
  {
   "cell_type": "code",
   "execution_count": 25,
   "id": "e5169b26",
   "metadata": {
    "execution": {
     "iopub.execute_input": "2023-08-26T16:32:18.861763Z",
     "iopub.status.busy": "2023-08-26T16:32:18.860822Z",
     "iopub.status.idle": "2023-08-26T16:32:19.226935Z",
     "shell.execute_reply": "2023-08-26T16:32:19.225760Z"
    },
    "papermill": {
     "duration": 0.391139,
     "end_time": "2023-08-26T16:32:19.229941",
     "exception": false,
     "start_time": "2023-08-26T16:32:18.838802",
     "status": "completed"
    },
    "tags": []
   },
   "outputs": [],
   "source": [
    "y_pred = msvc.predict(X_test)"
   ]
  },
  {
   "cell_type": "code",
   "execution_count": 26,
   "id": "295f93f7",
   "metadata": {
    "execution": {
     "iopub.execute_input": "2023-08-26T16:32:19.270439Z",
     "iopub.status.busy": "2023-08-26T16:32:19.270036Z",
     "iopub.status.idle": "2023-08-26T16:32:19.281749Z",
     "shell.execute_reply": "2023-08-26T16:32:19.280466Z"
    },
    "papermill": {
     "duration": 0.03588,
     "end_time": "2023-08-26T16:32:19.284959",
     "exception": false,
     "start_time": "2023-08-26T16:32:19.249079",
     "status": "completed"
    },
    "tags": []
   },
   "outputs": [
    {
     "name": "stdout",
     "output_type": "stream",
     "text": [
      "Accuracy Score:  0.7222541690626797\n",
      "AUC-ROC Score:  0.7235825270716099\n",
      "Mean Squared Error:  0.2777458309373203\n"
     ]
    }
   ],
   "source": [
    "print(\"Accuracy Score: \", accuracy_score(y_test, y_pred))\n",
    "print(\"AUC-ROC Score: \", roc_auc_score(y_test, y_pred))\n",
    "print(\"Mean Squared Error: \", mean_squared_error(y_test, y_pred))"
   ]
  }
 ],
 "metadata": {
  "kernelspec": {
   "display_name": "Python 3",
   "language": "python",
   "name": "python3"
  },
  "language_info": {
   "codemirror_mode": {
    "name": "ipython",
    "version": 3
   },
   "file_extension": ".py",
   "mimetype": "text/x-python",
   "name": "python",
   "nbconvert_exporter": "python",
   "pygments_lexer": "ipython3",
   "version": "3.10.12"
  },
  "papermill": {
   "default_parameters": {},
   "duration": 62.44277,
   "end_time": "2023-08-26T16:32:20.630687",
   "environment_variables": {},
   "exception": null,
   "input_path": "__notebook__.ipynb",
   "output_path": "__notebook__.ipynb",
   "parameters": {},
   "start_time": "2023-08-26T16:31:18.187917",
   "version": "2.4.0"
  }
 },
 "nbformat": 4,
 "nbformat_minor": 5
}
